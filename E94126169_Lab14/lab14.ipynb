{
  "cells": [
    {
      "cell_type": "markdown",
      "metadata": {
        "id": "4sVfxRF2UC2H"
      },
      "source": [
        "# 下載 MNIST 資料\n",
        "---\n",
        "首先，匯入 keras 和相關模組。"
      ]
    },
    {
      "cell_type": "code",
      "execution_count": 376,
      "metadata": {
        "id": "r43pJCz-n8vP"
      },
      "outputs": [],
      "source": [
        "# 匯入 numpy 和 pandas 模組，numpy 是 python 的程式庫，支援維度陣列與矩陣運算。\n",
        "# pandas 則提供檔案存取和數據操縱。\n",
        "import numpy as np\n",
        "import pandas as pd\n",
        "# 從 keras.utils 匯入 to_categroical，因為後續要將 label 標籤 轉換成 one-hot encoding。\n",
        "from tensorflow.keras.utils import to_categorical\n",
        "# 設定 seed 可以讓每次產生隨機值時，都會有相同的輸出。(若使用GPU，則無法每次皆相同)\n",
        "seed = 6169\n",
        "np.random.seed(seed)"
      ]
    },
    {
      "cell_type": "markdown",
      "metadata": {
        "id": "hgn5zsNAYY6A"
      },
      "source": [
        "Keras 中已經提供許多機器學習常用的數據集，包括波士頓房地產數據、CIFAR10、和這次範例要使用的手寫數據集。所以先從 keras 匯入 MNIST。\n",
        "\n",
        "第一次執行 mnist.load_data() ，程式會檢查目錄是否已經有檔案，如果沒有就會自動下載，所以第一次可能都會比較久。之後再次執行時不用再次下載就會快速很多。\n"
      ]
    },
    {
      "cell_type": "code",
      "execution_count": 377,
      "metadata": {
        "id": "vlDNq1x_n8vS"
      },
      "outputs": [],
      "source": [
        "from tensorflow.keras.datasets import mnist,cifar10\n",
        "(X_train_image, y_train_label),\\\n",
        "    (X_test_image, y_test_label) = mnist.load_data()"
      ]
    },
    {
      "cell_type": "markdown",
      "metadata": {
        "id": "4GZl5_1ndtWZ"
      },
      "source": [
        "先來看看 MNIST 資料數據集的筆數，還有訓練資料的組成。\n",
        "\n",
        "可以看到 train 訓練資料有 60000 筆，test 測試資料有 10000 筆。\n",
        "\n",
        "訓練資料是由 images 和 labels 所組成共 60000 筆， images 是單色的數字影像，labels 是數字影像對應的真實值。"
      ]
    },
    {
      "cell_type": "code",
      "execution_count": 378,
      "metadata": {
        "id": "FsuxbJdEn8vS",
        "colab": {
          "base_uri": "https://localhost:8080/"
        },
        "outputId": "8e8c0251-0af3-4cd6-cafc-695df1ff1805"
      },
      "outputs": [
        {
          "output_type": "stream",
          "name": "stdout",
          "text": [
            "train data :  60000\n",
            "test data :  10000\n"
          ]
        }
      ],
      "source": [
        "print('train data : ', len(X_train_image))\n",
        "print('test data : ', len(X_test_image))"
      ]
    },
    {
      "cell_type": "code",
      "execution_count": 379,
      "metadata": {
        "id": "sxNW-yfUn8vT",
        "colab": {
          "base_uri": "https://localhost:8080/"
        },
        "outputId": "1749c333-f4b3-4e58-c65f-8206c401502a"
      },
      "outputs": [
        {
          "output_type": "stream",
          "name": "stdout",
          "text": [
            "x_train_image :  (60000, 28, 28)\n",
            "y_train_label :  (60000,)\n"
          ]
        }
      ],
      "source": [
        "print('x_train_image : ', X_train_image.shape)\n",
        "print('y_train_label : ', y_train_label.shape)"
      ]
    },
    {
      "cell_type": "markdown",
      "metadata": {
        "id": "p1UqvEszhGu7"
      },
      "source": [
        "# 建立 plot_image 函式來顯示數字影像\n",
        "---\n",
        "來看看剛剛匯入的手寫數字圖像。\n",
        "\n"
      ]
    },
    {
      "cell_type": "code",
      "execution_count": 380,
      "metadata": {
        "id": "aldFBwdNn8vU"
      },
      "outputs": [],
      "source": [
        "import matplotlib.pyplot as plt\n",
        "def plot_image(image):\n",
        "    # 設定圖形顯示大小\n",
        "    fig = plt.gcf()\n",
        "    fig.set_size_inches(2, 2)\n",
        "    # 使用 plt.imshow() 顯示圖像，傳入參數是 28 X 28 的圖形，\n",
        "    # cmap 參數設定為 binary 以黑白灰階顯示\n",
        "    plt.imshow(image, cmap = 'binary')\n",
        "    # 開始繪圖\n",
        "    plt.show()"
      ]
    },
    {
      "cell_type": "markdown",
      "metadata": {
        "id": "-5OMZLgiljix"
      },
      "source": [
        "傳入訓練集第一筆資料，來看看他的影像。"
      ]
    },
    {
      "cell_type": "code",
      "execution_count": 381,
      "metadata": {
        "id": "qrrZ-gcfn8vU",
        "colab": {
          "base_uri": "https://localhost:8080/",
          "height": 217
        },
        "outputId": "4fcffe3a-0ac5-48ec-86f6-c290552af351"
      },
      "outputs": [
        {
          "output_type": "display_data",
          "data": {
            "text/plain": [
              "<Figure size 200x200 with 1 Axes>"
            ],
            "image/png": "[encoded data removed]"
          },
          "metadata": {}
        }
      ],
      "source": [
        "plot_image(X_train_image[200])"
      ]
    },
    {
      "cell_type": "markdown",
      "metadata": {
        "id": "R43L94LSl2IK"
      },
      "source": [
        "看看第一筆資料的 label"
      ]
    },
    {
      "cell_type": "code",
      "execution_count": 382,
      "metadata": {
        "id": "CctZ26v_n8vV",
        "colab": {
          "base_uri": "https://localhost:8080/"
        },
        "outputId": "50291aba-76f8-4699-9655-68de8a82ded4"
      },
      "outputs": [
        {
          "output_type": "execute_result",
          "data": {
            "text/plain": [
              "1"
            ]
          },
          "metadata": {},
          "execution_count": 382
        }
      ],
      "source": [
        "y_train_label[200]"
      ]
    },
    {
      "cell_type": "markdown",
      "metadata": {
        "id": "oXPaFNNjounB"
      },
      "source": [
        "# 查看多筆資料 images 與 labels\n",
        "---\n",
        "定義 plot_images_labels_prediction() 函式，傳入以下參數：images(數字影像)、labels(對應數字真實值)、prediction(預測結果)、idx(開始顯示影像的index)、num(要顯示的資料筆數，預設是10，不超過25)\n"
      ]
    },
    {
      "cell_type": "code",
      "execution_count": 383,
      "metadata": {
        "id": "wVDmYBSWn8vV"
      },
      "outputs": [],
      "source": [
        "def plot_images_labels_prediction(images, labels, prediction,\n",
        "                                    idx, num = 10):\n",
        "    # 設定顯示圖形大小\n",
        "    fig = plt.gcf()\n",
        "    fig.set_size_inches(12, 14)\n",
        "    # 如果顯示筆數大於25 則將他設定為25 以避免錯誤\n",
        "    if num > 25: num = 25\n",
        "    # 使用 for 迴圈依序畫出 num 個數字圖形\n",
        "    for i in range(0, num):\n",
        "        ax = plt.subplot(5, 5, 1+i) # 建立 5 X 5 的 subgraph 子圖形\n",
        "        ax.imshow(images[idx], cmap = 'binary') # 畫出 subgraph 子圖形\n",
        "        title = \"label=\" + str(labels[idx]) # 設定子圖形 title 顯示標籤欄位\n",
        "        if len(prediction) > 0: # 如果 prediction 有傳入值\n",
        "            title += \",predict=\" + str(prediction[idx]) # 將 prediction 加入 title\n",
        "        ax.set_title(title, fontsize = 10) # 設定標題大小\n",
        "        ax.set_xticks([]); ax.set_yticks([]) # 設定不顯示刻度\n",
        "        idx += 1 # 讀取下一筆\n",
        "    plt.show() # 開始畫圖"
      ]
    },
    {
      "cell_type": "markdown",
      "metadata": {
        "id": "epHsMhfHzBAT"
      },
      "source": [
        "顯示訓練資料前 10 筆資料。不過目前還沒有預測結果所以傳入空 list ，由第 0 筆開始顯示至第 9 筆。"
      ]
    },
    {
      "cell_type": "code",
      "execution_count": 384,
      "metadata": {
        "id": "y-iLff1vn8vW",
        "colab": {
          "base_uri": "https://localhost:8080/",
          "height": 439
        },
        "outputId": "252009e7-f153-4d85-c54a-edfc6a058fce"
      },
      "outputs": [
        {
          "output_type": "display_data",
          "data": {
            "text/plain": [
              "<Figure size 1200x1400 with 10 Axes>"
            ],
            "image/png": "[encoded data removed]"
          },
          "metadata": {}
        }
      ],
      "source": [
        "plot_images_labels_prediction(X_train_image, y_train_label, [], 0, 10)"
      ]
    },
    {
      "cell_type": "markdown",
      "metadata": {
        "id": "Ae4v3BOYzfz0"
      },
      "source": [
        "查看 test 測試資料筆數，可以看到共10000筆資料。"
      ]
    },
    {
      "cell_type": "code",
      "execution_count": 385,
      "metadata": {
        "id": "TKTXr0uin8vW",
        "colab": {
          "base_uri": "https://localhost:8080/"
        },
        "outputId": "e77659e6-98d0-435e-bd42-a9f47a209c37"
      },
      "outputs": [
        {
          "output_type": "stream",
          "name": "stdout",
          "text": [
            "x_test_image :  (10000, 28, 28)\n",
            "y_test_label :  (10000,)\n"
          ]
        }
      ],
      "source": [
        "print('x_test_image : ', X_test_image.shape)\n",
        "print('y_test_label : ', y_test_label.shape)"
      ]
    },
    {
      "cell_type": "markdown",
      "metadata": {
        "id": "KteBBFUTzr3s"
      },
      "source": [
        "顯示測試資料前 10 筆資料圖形。"
      ]
    },
    {
      "cell_type": "code",
      "execution_count": 386,
      "metadata": {
        "id": "ISt-J68Zn8vX",
        "colab": {
          "base_uri": "https://localhost:8080/",
          "height": 1000
        },
        "outputId": "4140bb36-859f-475f-d597-7c7689ded408"
      },
      "outputs": [
        {
          "output_type": "display_data",
          "data": {
            "text/plain": [
              "<Figure size 1200x1400 with 25 Axes>"
            ],
            "image/png": "[encoded data removed]"
          },
          "metadata": {}
        }
      ],
      "source": [
        "plot_images_labels_prediction(X_test_image, y_test_label, [], 0, 25)"
      ]
    },
    {
      "cell_type": "markdown",
      "metadata": {
        "id": "HRNmke3J1E1t"
      },
      "source": [
        "# feature(數字影像的特徵值)資料預處理\n"
      ]
    },
    {
      "cell_type": "code",
      "execution_count": 387,
      "metadata": {
        "id": "ms3N-1iUn8vX"
      },
      "outputs": [],
      "source": [
        "X_Train = X_train_image.astype('float32')\n",
        "X_Test = X_test_image.astype('float32')"
      ]
    },
    {
      "cell_type": "markdown",
      "metadata": {
        "id": "AdqLK9G12DbJ"
      },
      "source": [
        "查看一下每一個數字影像都變成 784 個 float 數字。"
      ]
    },
    {
      "cell_type": "code",
      "execution_count": 388,
      "metadata": {
        "id": "uBbTQ0gWn8vX",
        "colab": {
          "base_uri": "https://localhost:8080/"
        },
        "outputId": "f2e8b5eb-e9d5-4953-87f1-d66c8b1fa359"
      },
      "outputs": [
        {
          "output_type": "stream",
          "name": "stdout",
          "text": [
            "x_train :  (60000, 28, 28)\n",
            "x_test :  (10000, 28, 28)\n"
          ]
        }
      ],
      "source": [
        "print('x_train : ', X_Train.shape)\n",
        "print('x_test : ', X_Test.shape)"
      ]
    },
    {
      "cell_type": "markdown",
      "metadata": {
        "id": "ivdFFYiD2WqY"
      },
      "source": [
        "將 image 的數字標準化。\n",
        "\n",
        "因為圖像的數字是介於 0 到 255，所以最簡單的方法就是除以 255。"
      ]
    },
    {
      "cell_type": "code",
      "execution_count": 389,
      "metadata": {
        "id": "NDMKuvtIn8vY"
      },
      "outputs": [],
      "source": [
        "X_Train_normalize = X_Train / 255\n",
        "X_Test_normalize = X_Test / 255"
      ]
    },
    {
      "cell_type": "markdown",
      "metadata": {
        "id": "CDWfCYgu29br"
      },
      "source": [
        "# labels(數字影像對應真實值)資料預處理\n",
        "---\n",
        "先來查看一下訓練資料 label 標籤欄位前五筆資料，可以看到這是 0 ~ 9 的單一數字。"
      ]
    },
    {
      "cell_type": "code",
      "execution_count": 390,
      "metadata": {
        "id": "_OPr_LFYn8vY",
        "colab": {
          "base_uri": "https://localhost:8080/"
        },
        "outputId": "5951a103-f5cf-4f98-c751-8bc9ad3fca68"
      },
      "outputs": [
        {
          "output_type": "execute_result",
          "data": {
            "text/plain": [
              "array([5, 0, 4, 1, 9], dtype=uint8)"
            ]
          },
          "metadata": {},
          "execution_count": 390
        }
      ],
      "source": [
        "y_train_label[:5]"
      ]
    },
    {
      "cell_type": "markdown",
      "metadata": {
        "id": "0HVpRwTMlWTo"
      },
      "source": [
        "使用我們開頭匯入的 to_categorical函式，傳入 label 標籤，將他們轉換成 one-hot encoding。"
      ]
    },
    {
      "cell_type": "code",
      "execution_count": 391,
      "metadata": {
        "id": "Am_djE9Cn8vY"
      },
      "outputs": [],
      "source": [
        "y_TrainOneHot = to_categorical(y_train_label)\n",
        "y_TestOneHot = to_categorical(y_test_label)"
      ]
    },
    {
      "cell_type": "markdown",
      "metadata": {
        "id": "IdhtS_VDl6kg"
      },
      "source": [
        "查看轉換過後的結果。"
      ]
    },
    {
      "cell_type": "code",
      "execution_count": 392,
      "metadata": {
        "id": "ehbvMVISn8vZ",
        "colab": {
          "base_uri": "https://localhost:8080/"
        },
        "outputId": "54f3364e-f41b-481c-954a-a031ae842a56"
      },
      "outputs": [
        {
          "output_type": "execute_result",
          "data": {
            "text/plain": [
              "array([[0., 0., 0., 0., 0., 1., 0., 0., 0., 0.],\n",
              "       [1., 0., 0., 0., 0., 0., 0., 0., 0., 0.],\n",
              "       [0., 0., 0., 0., 1., 0., 0., 0., 0., 0.],\n",
              "       [0., 1., 0., 0., 0., 0., 0., 0., 0., 0.],\n",
              "       [0., 0., 0., 0., 0., 0., 0., 0., 0., 1.]], dtype=float32)"
            ]
          },
          "metadata": {},
          "execution_count": 392
        }
      ],
      "source": [
        "y_TrainOneHot[:5]"
      ]
    },
    {
      "cell_type": "markdown",
      "metadata": {
        "id": "VZ24AXlCmC2g"
      },
      "source": [
        "# 建立 MLP 模型\n",
        "---\n",
        "接下來建立我們的多層感知器模型，輸入層共有 (28*28) 個神經元，隱藏層 32 個神經元，最後輸出層共有 10 個神經元。\n",
        "\n",
        "首先先匯入所需要的模組。"
      ]
    },
    {
      "cell_type": "code",
      "execution_count": 393,
      "metadata": {
        "id": "6t3RUk-wn8vZ"
      },
      "outputs": [],
      "source": [
        "from tensorflow.keras import layers, metrics\n",
        "from tensorflow.keras.layers import Dense,InputLayer,Flatten\n",
        "from tensorflow.keras import models\n",
        "import tensorflow as tf\n",
        "tf.random.set_seed(seed)"
      ]
    },
    {
      "cell_type": "markdown",
      "metadata": {
        "id": "_KqO-SLQm7Dk"
      },
      "source": [
        "建立 Sequential 一個線性堆疊模型，後續只要使用 model.add() 將個神經網路層依序加入模型即可。"
      ]
    },
    {
      "cell_type": "code",
      "execution_count": 394,
      "metadata": {
        "id": "RJKfB6H8n8vZ"
      },
      "outputs": [],
      "source": [
        "model = models.Sequential()"
      ]
    },
    {
      "cell_type": "markdown",
      "source": [
        "建立輸入層\n",
        "1.   設定輸入層神經元 維度為 (28,28,1)。\n",
        "2.   把(28,28,1)攤平，變成一維"
      ],
      "metadata": {
        "id": "3PvA6D4BrQmP"
      }
    },
    {
      "cell_type": "code",
      "source": [
        "model.add(InputLayer(input_shape=(28,28,1)))\n",
        "model.add(Flatten())"
      ],
      "metadata": {
        "id": "MlQx3w1krP2X"
      },
      "execution_count": 395,
      "outputs": []
    },
    {
      "cell_type": "markdown",
      "metadata": {
        "id": "uvAqC0q3nZdO"
      },
      "source": [
        "建立隱藏層。\n",
        "1.   定義隱藏層神經元 32 個。\n",
        "2.   設定激活函數為 sigmoid。\n",
        "\n",
        "可以在keras官方文件查看可以使用的Activation function\n",
        "https://keras.io/zh/activations/\n",
        "\n"
      ]
    },
    {
      "cell_type": "code",
      "execution_count": 396,
      "metadata": {
        "id": "2bCNDEF7n8vZ"
      },
      "outputs": [],
      "source": [
        "model.add(Dense(128,  kernel_initializer = 'random_uniform',activation = 'relu'))\n"
      ]
    },
    {
      "cell_type": "markdown",
      "metadata": {
        "id": "DU9GQ-0VoRaS"
      },
      "source": [
        "建立輸出層總共 10 個神經元，對應要分類的數字類別 0 ~ 9 。設定激活函數為 softmax ，這樣每一個神經元的輸出結果可視為預測每一個數字的機率。"
      ]
    },
    {
      "cell_type": "code",
      "execution_count": 397,
      "metadata": {
        "id": "4cgofZ9Yn8va"
      },
      "outputs": [],
      "source": [
        "model.add(Dense(10, kernel_initializer = 'normal', activation = 'softmax'))"
      ]
    },
    {
      "cell_type": "markdown",
      "metadata": {
        "id": "I5tigyhWo3eg"
      },
      "source": [
        "來看看我們建好的模型的摘要。"
      ]
    },
    {
      "cell_type": "code",
      "execution_count": 398,
      "metadata": {
        "id": "yw-ifJ58n8va",
        "colab": {
          "base_uri": "https://localhost:8080/"
        },
        "outputId": "a4bd547f-8f92-4fea-9c17-1ab77328d98b"
      },
      "outputs": [
        {
          "output_type": "stream",
          "name": "stdout",
          "text": [
            "Model: \"sequential_12\"\n",
            "_________________________________________________________________\n",
            " Layer (type)                Output Shape              Param #   \n",
            "=================================================================\n",
            " flatten_12 (Flatten)        (None, 784)               0         \n",
            "                                                                 \n",
            " dense_24 (Dense)            (None, 128)               100480    \n",
            "                                                                 \n",
            " dense_25 (Dense)            (None, 10)                1290      \n",
            "                                                                 \n",
            "=================================================================\n",
            "Total params: 101770 (397.54 KB)\n",
            "Trainable params: 101770 (397.54 KB)\n",
            "Non-trainable params: 0 (0.00 Byte)\n",
            "_________________________________________________________________\n",
            "None\n"
          ]
        }
      ],
      "source": [
        "print(model.summary())"
      ]
    },
    {
      "cell_type": "markdown",
      "metadata": {
        "id": "mR__ZeJ8pS0Y"
      },
      "source": [
        "# 進行訓練\n",
        "---\n",
        "首先使用 compile ，對訓練模型進行設定。相關參數有：\n",
        "1.   loss : 設定損失函數，這邊使用 CategoricalCrossentropy。另外也還有很多不同的函數，可以到 keras 官網查詢，不同的模型和資料都有他們最適合的函數。\n",
        "2.   optimizer : 設定優化方法，這邊使用 sgd 方法。同樣 keras 也提供很多種優化方法。https://keras.io/zh/optimizers/\n",
        "1.   metrics : 設定評估模型的方式是 accuracy 準確率。"
      ]
    },
    {
      "cell_type": "code",
      "execution_count": 399,
      "metadata": {
        "id": "CNMv_62tn8va"
      },
      "outputs": [],
      "source": [
        "# loss_function = 'CategoricalCrossentropy'\n",
        "loss_function = 'BinaryFocalCrossentropy'\n",
        "optimize_function = 'Adam' # Adadelta , Adagrad ,Adam ,Adamax ,FTRL ,Nadam ,RMSprop ,sgd\n",
        "model.compile(loss = loss_function, optimizer = optimize_function, metrics = ['accuracy'])"
      ]
    },
    {
      "cell_type": "markdown",
      "metadata": {
        "id": "jeXXrNn_rCxB"
      },
      "source": [
        "開始訓練，過程都會儲存在 train_history 變數，其中的相關參數：\n",
        "1.   設定 validation_split = 0.2 ，將訓練資料 80% 作為訓練，20% 作為驗證資料。\n",
        "1.   設定 epochs 執行 10 次訓練週期。每一批次 batch_size 有 200 筆資料。\n",
        "2.   verbose = 2，顯示訓練過程。"
      ]
    },
    {
      "cell_type": "code",
      "execution_count": 400,
      "metadata": {
        "id": "A9mb8zN3n8va",
        "colab": {
          "base_uri": "https://localhost:8080/"
        },
        "outputId": "2a23e07b-d046-4bb6-f399-630eb36634d8"
      },
      "outputs": [
        {
          "output_type": "stream",
          "name": "stdout",
          "text": [
            "Epoch 1/70\n",
            "240/240 - 2s - loss: 0.0146 - accuracy: 0.8599 - val_loss: 0.0084 - val_accuracy: 0.9339 - 2s/epoch - 8ms/step\n",
            "Epoch 2/70\n",
            "240/240 - 1s - loss: 0.0074 - accuracy: 0.9405 - val_loss: 0.0064 - val_accuracy: 0.9508 - 810ms/epoch - 3ms/step\n",
            "Epoch 3/70\n",
            "240/240 - 1s - loss: 0.0055 - accuracy: 0.9574 - val_loss: 0.0052 - val_accuracy: 0.9615 - 903ms/epoch - 4ms/step\n",
            "Epoch 4/70\n",
            "240/240 - 1s - loss: 0.0044 - accuracy: 0.9678 - val_loss: 0.0046 - val_accuracy: 0.9658 - 1s/epoch - 4ms/step\n",
            "Epoch 5/70\n",
            "240/240 - 1s - loss: 0.0036 - accuracy: 0.9744 - val_loss: 0.0042 - val_accuracy: 0.9693 - 752ms/epoch - 3ms/step\n",
            "Epoch 6/70\n",
            "240/240 - 1s - loss: 0.0031 - accuracy: 0.9790 - val_loss: 0.0040 - val_accuracy: 0.9716 - 658ms/epoch - 3ms/step\n",
            "Epoch 7/70\n",
            "240/240 - 1s - loss: 0.0026 - accuracy: 0.9831 - val_loss: 0.0037 - val_accuracy: 0.9735 - 664ms/epoch - 3ms/step\n",
            "Epoch 8/70\n",
            "240/240 - 1s - loss: 0.0023 - accuracy: 0.9858 - val_loss: 0.0038 - val_accuracy: 0.9741 - 689ms/epoch - 3ms/step\n",
            "Epoch 9/70\n",
            "240/240 - 1s - loss: 0.0019 - accuracy: 0.9882 - val_loss: 0.0040 - val_accuracy: 0.9743 - 650ms/epoch - 3ms/step\n",
            "Epoch 10/70\n",
            "240/240 - 1s - loss: 0.0017 - accuracy: 0.9900 - val_loss: 0.0037 - val_accuracy: 0.9768 - 653ms/epoch - 3ms/step\n",
            "Epoch 11/70\n",
            "240/240 - 1s - loss: 0.0015 - accuracy: 0.9915 - val_loss: 0.0036 - val_accuracy: 0.9771 - 648ms/epoch - 3ms/step\n",
            "Epoch 12/70\n",
            "240/240 - 1s - loss: 0.0012 - accuracy: 0.9939 - val_loss: 0.0041 - val_accuracy: 0.9754 - 704ms/epoch - 3ms/step\n",
            "Epoch 13/70\n",
            "240/240 - 1s - loss: 0.0011 - accuracy: 0.9945 - val_loss: 0.0039 - val_accuracy: 0.9762 - 708ms/epoch - 3ms/step\n",
            "Epoch 14/70\n",
            "240/240 - 1s - loss: 9.0298e-04 - accuracy: 0.9958 - val_loss: 0.0038 - val_accuracy: 0.9773 - 684ms/epoch - 3ms/step\n",
            "Epoch 15/70\n",
            "240/240 - 1s - loss: 7.7529e-04 - accuracy: 0.9966 - val_loss: 0.0041 - val_accuracy: 0.9760 - 709ms/epoch - 3ms/step\n",
            "Epoch 16/70\n",
            "240/240 - 1s - loss: 6.8632e-04 - accuracy: 0.9971 - val_loss: 0.0041 - val_accuracy: 0.9771 - 635ms/epoch - 3ms/step\n",
            "Epoch 17/70\n",
            "240/240 - 1s - loss: 5.5156e-04 - accuracy: 0.9980 - val_loss: 0.0042 - val_accuracy: 0.9770 - 642ms/epoch - 3ms/step\n",
            "Epoch 18/70\n",
            "240/240 - 1s - loss: 4.8919e-04 - accuracy: 0.9984 - val_loss: 0.0043 - val_accuracy: 0.9773 - 697ms/epoch - 3ms/step\n",
            "Epoch 19/70\n",
            "240/240 - 1s - loss: 4.3565e-04 - accuracy: 0.9986 - val_loss: 0.0043 - val_accuracy: 0.9787 - 854ms/epoch - 4ms/step\n",
            "Epoch 20/70\n",
            "240/240 - 1s - loss: 3.4601e-04 - accuracy: 0.9991 - val_loss: 0.0045 - val_accuracy: 0.9770 - 892ms/epoch - 4ms/step\n",
            "Epoch 21/70\n",
            "240/240 - 1s - loss: 2.9660e-04 - accuracy: 0.9992 - val_loss: 0.0046 - val_accuracy: 0.9774 - 1s/epoch - 4ms/step\n",
            "Epoch 22/70\n",
            "240/240 - 1s - loss: 2.5445e-04 - accuracy: 0.9995 - val_loss: 0.0046 - val_accuracy: 0.9781 - 764ms/epoch - 3ms/step\n",
            "Epoch 23/70\n",
            "240/240 - 1s - loss: 2.1279e-04 - accuracy: 0.9997 - val_loss: 0.0049 - val_accuracy: 0.9778 - 654ms/epoch - 3ms/step\n",
            "Epoch 24/70\n",
            "240/240 - 1s - loss: 2.2336e-04 - accuracy: 0.9994 - val_loss: 0.0050 - val_accuracy: 0.9764 - 691ms/epoch - 3ms/step\n",
            "Epoch 25/70\n",
            "240/240 - 1s - loss: 2.0688e-04 - accuracy: 0.9996 - val_loss: 0.0055 - val_accuracy: 0.9770 - 654ms/epoch - 3ms/step\n",
            "Epoch 26/70\n",
            "240/240 - 1s - loss: 1.9464e-04 - accuracy: 0.9996 - val_loss: 0.0050 - val_accuracy: 0.9782 - 646ms/epoch - 3ms/step\n",
            "Epoch 27/70\n",
            "240/240 - 1s - loss: 1.0650e-04 - accuracy: 0.9999 - val_loss: 0.0051 - val_accuracy: 0.9781 - 649ms/epoch - 3ms/step\n",
            "Epoch 28/70\n",
            "240/240 - 1s - loss: 7.3900e-05 - accuracy: 1.0000 - val_loss: 0.0052 - val_accuracy: 0.9783 - 643ms/epoch - 3ms/step\n",
            "Epoch 29/70\n",
            "240/240 - 1s - loss: 5.9272e-05 - accuracy: 1.0000 - val_loss: 0.0054 - val_accuracy: 0.9783 - 697ms/epoch - 3ms/step\n",
            "Epoch 30/70\n",
            "240/240 - 1s - loss: 6.3458e-05 - accuracy: 1.0000 - val_loss: 0.0054 - val_accuracy: 0.9778 - 696ms/epoch - 3ms/step\n",
            "Epoch 31/70\n",
            "240/240 - 1s - loss: 4.5911e-05 - accuracy: 1.0000 - val_loss: 0.0058 - val_accuracy: 0.9769 - 630ms/epoch - 3ms/step\n",
            "Epoch 32/70\n",
            "240/240 - 1s - loss: 5.0467e-05 - accuracy: 1.0000 - val_loss: 0.0055 - val_accuracy: 0.9793 - 641ms/epoch - 3ms/step\n",
            "Epoch 33/70\n",
            "240/240 - 1s - loss: 3.6303e-05 - accuracy: 1.0000 - val_loss: 0.0056 - val_accuracy: 0.9783 - 651ms/epoch - 3ms/step\n",
            "Epoch 34/70\n",
            "240/240 - 1s - loss: 2.7732e-05 - accuracy: 1.0000 - val_loss: 0.0058 - val_accuracy: 0.9782 - 659ms/epoch - 3ms/step\n",
            "Epoch 35/70\n",
            "240/240 - 1s - loss: 2.3192e-05 - accuracy: 1.0000 - val_loss: 0.0057 - val_accuracy: 0.9786 - 655ms/epoch - 3ms/step\n",
            "Epoch 36/70\n",
            "240/240 - 1s - loss: 1.9597e-05 - accuracy: 1.0000 - val_loss: 0.0058 - val_accuracy: 0.9784 - 700ms/epoch - 3ms/step\n",
            "Epoch 37/70\n",
            "240/240 - 1s - loss: 1.6662e-05 - accuracy: 1.0000 - val_loss: 0.0059 - val_accuracy: 0.9785 - 1s/epoch - 4ms/step\n",
            "Epoch 38/70\n",
            "240/240 - 1s - loss: 6.4308e-05 - accuracy: 0.9996 - val_loss: 0.0089 - val_accuracy: 0.9692 - 927ms/epoch - 4ms/step\n",
            "Epoch 39/70\n",
            "240/240 - 1s - loss: 0.0014 - accuracy: 0.9925 - val_loss: 0.0063 - val_accuracy: 0.9762 - 869ms/epoch - 4ms/step\n",
            "Epoch 40/70\n",
            "240/240 - 1s - loss: 1.7820e-04 - accuracy: 0.9994 - val_loss: 0.0067 - val_accuracy: 0.9760 - 695ms/epoch - 3ms/step\n",
            "Epoch 41/70\n",
            "240/240 - 1s - loss: 1.1575e-04 - accuracy: 0.9996 - val_loss: 0.0061 - val_accuracy: 0.9774 - 650ms/epoch - 3ms/step\n",
            "Epoch 42/70\n",
            "240/240 - 1s - loss: 2.3990e-05 - accuracy: 1.0000 - val_loss: 0.0061 - val_accuracy: 0.9782 - 681ms/epoch - 3ms/step\n",
            "Epoch 43/70\n",
            "240/240 - 1s - loss: 1.7516e-05 - accuracy: 1.0000 - val_loss: 0.0061 - val_accuracy: 0.9783 - 699ms/epoch - 3ms/step\n",
            "Epoch 44/70\n",
            "240/240 - 1s - loss: 1.4758e-05 - accuracy: 1.0000 - val_loss: 0.0061 - val_accuracy: 0.9786 - 686ms/epoch - 3ms/step\n",
            "Epoch 45/70\n",
            "240/240 - 1s - loss: 1.2914e-05 - accuracy: 1.0000 - val_loss: 0.0062 - val_accuracy: 0.9787 - 639ms/epoch - 3ms/step\n",
            "Epoch 46/70\n",
            "240/240 - 1s - loss: 1.1489e-05 - accuracy: 1.0000 - val_loss: 0.0062 - val_accuracy: 0.9787 - 656ms/epoch - 3ms/step\n",
            "Epoch 47/70\n",
            "240/240 - 1s - loss: 1.0436e-05 - accuracy: 1.0000 - val_loss: 0.0062 - val_accuracy: 0.9790 - 712ms/epoch - 3ms/step\n",
            "Epoch 48/70\n",
            "240/240 - 1s - loss: 9.5416e-06 - accuracy: 1.0000 - val_loss: 0.0062 - val_accuracy: 0.9789 - 683ms/epoch - 3ms/step\n",
            "Epoch 49/70\n",
            "240/240 - 1s - loss: 8.7001e-06 - accuracy: 1.0000 - val_loss: 0.0063 - val_accuracy: 0.9792 - 654ms/epoch - 3ms/step\n",
            "Epoch 50/70\n",
            "240/240 - 1s - loss: 7.9132e-06 - accuracy: 1.0000 - val_loss: 0.0063 - val_accuracy: 0.9791 - 678ms/epoch - 3ms/step\n",
            "Epoch 51/70\n",
            "240/240 - 1s - loss: 7.2911e-06 - accuracy: 1.0000 - val_loss: 0.0063 - val_accuracy: 0.9788 - 652ms/epoch - 3ms/step\n",
            "Epoch 52/70\n",
            "240/240 - 1s - loss: 6.8146e-06 - accuracy: 1.0000 - val_loss: 0.0063 - val_accuracy: 0.9789 - 708ms/epoch - 3ms/step\n",
            "Epoch 53/70\n",
            "240/240 - 1s - loss: 6.1538e-06 - accuracy: 1.0000 - val_loss: 0.0063 - val_accuracy: 0.9787 - 653ms/epoch - 3ms/step\n",
            "Epoch 54/70\n",
            "240/240 - 1s - loss: 5.6795e-06 - accuracy: 1.0000 - val_loss: 0.0064 - val_accuracy: 0.9791 - 763ms/epoch - 3ms/step\n",
            "Epoch 55/70\n",
            "240/240 - 1s - loss: 5.3083e-06 - accuracy: 1.0000 - val_loss: 0.0064 - val_accuracy: 0.9791 - 909ms/epoch - 4ms/step\n",
            "Epoch 56/70\n",
            "240/240 - 1s - loss: 4.8717e-06 - accuracy: 1.0000 - val_loss: 0.0064 - val_accuracy: 0.9786 - 1s/epoch - 4ms/step\n",
            "Epoch 57/70\n",
            "240/240 - 1s - loss: 4.4062e-06 - accuracy: 1.0000 - val_loss: 0.0065 - val_accuracy: 0.9797 - 735ms/epoch - 3ms/step\n",
            "Epoch 58/70\n",
            "240/240 - 1s - loss: 4.0562e-06 - accuracy: 1.0000 - val_loss: 0.0065 - val_accuracy: 0.9787 - 652ms/epoch - 3ms/step\n",
            "Epoch 59/70\n",
            "240/240 - 1s - loss: 3.6681e-06 - accuracy: 1.0000 - val_loss: 0.0066 - val_accuracy: 0.9789 - 689ms/epoch - 3ms/step\n",
            "Epoch 60/70\n",
            "240/240 - 1s - loss: 3.3648e-06 - accuracy: 1.0000 - val_loss: 0.0066 - val_accuracy: 0.9788 - 666ms/epoch - 3ms/step\n",
            "Epoch 61/70\n",
            "240/240 - 1s - loss: 3.1089e-06 - accuracy: 1.0000 - val_loss: 0.0066 - val_accuracy: 0.9798 - 687ms/epoch - 3ms/step\n",
            "Epoch 62/70\n",
            "240/240 - 1s - loss: 2.8463e-06 - accuracy: 1.0000 - val_loss: 0.0067 - val_accuracy: 0.9794 - 641ms/epoch - 3ms/step\n",
            "Epoch 63/70\n",
            "240/240 - 1s - loss: 2.6556e-06 - accuracy: 1.0000 - val_loss: 0.0067 - val_accuracy: 0.9792 - 658ms/epoch - 3ms/step\n",
            "Epoch 64/70\n",
            "240/240 - 1s - loss: 2.4287e-06 - accuracy: 1.0000 - val_loss: 0.0068 - val_accuracy: 0.9788 - 727ms/epoch - 3ms/step\n",
            "Epoch 65/70\n",
            "240/240 - 1s - loss: 2.1608e-06 - accuracy: 1.0000 - val_loss: 0.0068 - val_accuracy: 0.9793 - 677ms/epoch - 3ms/step\n",
            "Epoch 66/70\n",
            "240/240 - 1s - loss: 1.9370e-06 - accuracy: 1.0000 - val_loss: 0.0069 - val_accuracy: 0.9794 - 658ms/epoch - 3ms/step\n",
            "Epoch 67/70\n",
            "240/240 - 1s - loss: 1.7364e-06 - accuracy: 1.0000 - val_loss: 0.0069 - val_accuracy: 0.9793 - 641ms/epoch - 3ms/step\n",
            "Epoch 68/70\n",
            "240/240 - 1s - loss: 1.5459e-06 - accuracy: 1.0000 - val_loss: 0.0070 - val_accuracy: 0.9793 - 690ms/epoch - 3ms/step\n",
            "Epoch 69/70\n",
            "240/240 - 1s - loss: 1.4678e-06 - accuracy: 1.0000 - val_loss: 0.0070 - val_accuracy: 0.9792 - 657ms/epoch - 3ms/step\n",
            "Epoch 70/70\n",
            "240/240 - 1s - loss: 1.3142e-06 - accuracy: 1.0000 - val_loss: 0.0071 - val_accuracy: 0.9790 - 690ms/epoch - 3ms/step\n"
          ]
        }
      ],
      "source": [
        "train_history = model.fit(x = X_Train_normalize, y = y_TrainOneHot,\n",
        "                            validation_split = 0.2, epochs = 70, batch_size = 200,\n",
        "                            verbose = 2)"
      ]
    },
    {
      "cell_type": "markdown",
      "metadata": {
        "id": "y2UhJPyc39PF"
      },
      "source": [
        "建立函式顯示訓練過程，會將每一個訓練週期的 accuracy 和 loss 以圖表顯示出來。"
      ]
    },
    {
      "cell_type": "code",
      "execution_count": 401,
      "metadata": {
        "id": "oQgpTAEfn8vb"
      },
      "outputs": [],
      "source": [
        "def show_train_history(train_history, train, validation):\n",
        "    plt.plot(train_history.history[train])\n",
        "    plt.plot(train_history.history[validation])\n",
        "    plt.title('Train History')\n",
        "    plt.ylabel(train)\n",
        "    plt.xlabel('Epoch')\n",
        "    plt.legend(['train', 'validation'], loc = 'upper left')\n",
        "    plt.show()"
      ]
    },
    {
      "cell_type": "code",
      "execution_count": 402,
      "metadata": {
        "id": "Gd1cWRrKn8vb",
        "colab": {
          "base_uri": "https://localhost:8080/",
          "height": 472
        },
        "outputId": "786597aa-6e07-4f30-ba4d-d99c1976c39f"
      },
      "outputs": [
        {
          "output_type": "display_data",
          "data": {
            "text/plain": [
              "<Figure size 640x480 with 1 Axes>"
            ],
            "image/png": "[encoded data removed]"
          },
          "metadata": {}
        }
      ],
      "source": [
        "show_train_history(train_history, 'accuracy', 'val_accuracy')"
      ]
    },
    {
      "cell_type": "code",
      "execution_count": 403,
      "metadata": {
        "id": "BW7YX87on8vb",
        "colab": {
          "base_uri": "https://localhost:8080/",
          "height": 472
        },
        "outputId": "dc9b846c-c9ff-446e-b135-3a78780bbf0d"
      },
      "outputs": [
        {
          "output_type": "display_data",
          "data": {
            "text/plain": [
              "<Figure size 640x480 with 1 Axes>"
            ],
            "image/png": "[encoded data removed]"
          },
          "metadata": {}
        }
      ],
      "source": [
        "show_train_history(train_history, 'loss', 'val_loss')"
      ]
    },
    {
      "cell_type": "markdown",
      "metadata": {
        "id": "fhHrcEWo4iJD"
      },
      "source": [
        "# 以測試資料評估模型準確率\n",
        "---\n"
      ]
    },
    {
      "cell_type": "code",
      "execution_count": 404,
      "metadata": {
        "id": "FpMOSWR2n8vc",
        "colab": {
          "base_uri": "https://localhost:8080/"
        },
        "outputId": "dad18f98-2ed9-4b30-b1de-229efbbe2349"
      },
      "outputs": [
        {
          "output_type": "stream",
          "name": "stdout",
          "text": [
            "313/313 [==============================] - 1s 2ms/step - loss: 0.0062 - accuracy: 0.9817\n",
            "\n",
            "accuracy =  0.9817000031471252\n"
          ]
        }
      ],
      "source": [
        "scores = model.evaluate(X_Test_normalize, y_TestOneHot)\n",
        "print()\n",
        "print('accuracy = ', scores[1])"
      ]
    },
    {
      "cell_type": "markdown",
      "metadata": {
        "id": "80wdyNJY40PA"
      },
      "source": [
        "執行預測，將結果存到 prediction 中。"
      ]
    },
    {
      "cell_type": "code",
      "execution_count": 405,
      "metadata": {
        "id": "PjVUnCEnn8vc",
        "colab": {
          "base_uri": "https://localhost:8080/"
        },
        "outputId": "fb40b1ec-7ae4-4d0b-d350-bafc0678f018"
      },
      "outputs": [
        {
          "output_type": "stream",
          "name": "stdout",
          "text": [
            "313/313 [==============================] - 0s 1ms/step\n"
          ]
        }
      ],
      "source": [
        "prediction = np.argmax(model.predict(X_Test), axis = -1)"
      ]
    },
    {
      "cell_type": "code",
      "execution_count": 406,
      "metadata": {
        "id": "h9SWS2kqn8vc",
        "colab": {
          "base_uri": "https://localhost:8080/"
        },
        "outputId": "11967348-b0e4-4b84-b363-6e58d79edad6"
      },
      "outputs": [
        {
          "output_type": "execute_result",
          "data": {
            "text/plain": [
              "array([7, 2, 1, ..., 4, 5, 6])"
            ]
          },
          "metadata": {},
          "execution_count": 406
        }
      ],
      "source": [
        "prediction"
      ]
    },
    {
      "cell_type": "markdown",
      "metadata": {
        "id": "lpO7D8kU5Cc_"
      },
      "source": [
        "顯示 10 筆預測結果。"
      ]
    },
    {
      "cell_type": "code",
      "execution_count": 407,
      "metadata": {
        "id": "3P_gdFyBn8vc",
        "scrolled": false,
        "colab": {
          "base_uri": "https://localhost:8080/",
          "height": 439
        },
        "outputId": "eae5fee7-843d-49b8-e87f-e84a479ac746"
      },
      "outputs": [
        {
          "output_type": "display_data",
          "data": {
            "text/plain": [
              "<Figure size 1200x1400 with 10 Axes>"
            ],
            "image/png": "[encoded data removed]"
          },
          "metadata": {}
        }
      ],
      "source": [
        "plot_images_labels_prediction(X_test_image, y_test_label, prediction, idx = 340)"
      ]
    },
    {
      "cell_type": "code",
      "source": [
        "y_test_label = y_test_label.reshape(10000)"
      ],
      "metadata": {
        "id": "bwAxlDHhxG-D"
      },
      "execution_count": 408,
      "outputs": []
    },
    {
      "cell_type": "markdown",
      "metadata": {
        "id": "wPnqNhGnvgqS"
      },
      "source": [
        "混淆矩陣"
      ]
    },
    {
      "cell_type": "code",
      "execution_count": 409,
      "metadata": {
        "id": "MnGfKgExvgqS",
        "colab": {
          "base_uri": "https://localhost:8080/",
          "height": 394
        },
        "outputId": "3c68146e-0e2f-4dd1-e00e-3e57e353e962"
      },
      "outputs": [
        {
          "output_type": "execute_result",
          "data": {
            "text/plain": [
              "predict    0     1     2    3    4    5    6     7    8    9\n",
              "label                                                       \n",
              "0        972     0     1    2    1    1    1     1    1    0\n",
              "1          0  1127     2    1    0    1    1     1    2    0\n",
              "2          3     1  1014    3    1    0    1     6    2    1\n",
              "3          1     0     2  997    0    3    0     3    2    2\n",
              "4          3     0     2    1  963    0    3     1    1    8\n",
              "5          1     1     0   15    1  857    7     2    5    3\n",
              "6          3     4     3    2    2    3  940     1    0    0\n",
              "7          1     7     7    2    0    0    0  1007    2    2\n",
              "8          4     1     3    8    4    1    2     3  945    3\n",
              "9          1     5     1    8    5    3    1     4    0  981"
            ],
            "text/html": [
              "\n",
              "  <div id=\"df-338fa52b-973a-4238-8948-57c971045e99\" class=\"colab-df-container\">\n",
              "    <div>\n",
              "<style scoped>\n",
              "    .dataframe tbody tr th:only-of-type {\n",
              "        vertical-align: middle;\n",
              "    }\n",
              "\n",
              "    .dataframe tbody tr th {\n",
              "        vertical-align: top;\n",
              "    }\n",
              "\n",
              "    .dataframe thead th {\n",
              "        text-align: right;\n",
              "    }\n",
              "</style>\n",
              "<table border=\"1\" class=\"dataframe\">\n",
              "  <thead>\n",
              "    <tr style=\"text-align: right;\">\n",
              "      <th>predict</th>\n",
              "      <th>0</th>\n",
              "      <th>1</th>\n",
              "      <th>2</th>\n",
              "      <th>3</th>\n",
              "      <th>4</th>\n",
              "      <th>5</th>\n",
              "      <th>6</th>\n",
              "      <th>7</th>\n",
              "      <th>8</th>\n",
              "      <th>9</th>\n",
              "    </tr>\n",
              "    <tr>\n",
              "      <th>label</th>\n",
              "      <th></th>\n",
              "      <th></th>\n",
              "      <th></th>\n",
              "      <th></th>\n",
              "      <th></th>\n",
              "      <th></th>\n",
              "      <th></th>\n",
              "      <th></th>\n",
              "      <th></th>\n",
              "      <th></th>\n",
              "    </tr>\n",
              "  </thead>\n",
              "  <tbody>\n",
              "    <tr>\n",
              "      <th>0</th>\n",
              "      <td>972</td>\n",
              "      <td>0</td>\n",
              "      <td>1</td>\n",
              "      <td>2</td>\n",
              "      <td>1</td>\n",
              "      <td>1</td>\n",
              "      <td>1</td>\n",
              "      <td>1</td>\n",
              "      <td>1</td>\n",
              "      <td>0</td>\n",
              "    </tr>\n",
              "    <tr>\n",
              "      <th>1</th>\n",
              "      <td>0</td>\n",
              "      <td>1127</td>\n",
              "      <td>2</td>\n",
              "      <td>1</td>\n",
              "      <td>0</td>\n",
              "      <td>1</td>\n",
              "      <td>1</td>\n",
              "      <td>1</td>\n",
              "      <td>2</td>\n",
              "      <td>0</td>\n",
              "    </tr>\n",
              "    <tr>\n",
              "      <th>2</th>\n",
              "      <td>3</td>\n",
              "      <td>1</td>\n",
              "      <td>1014</td>\n",
              "      <td>3</td>\n",
              "      <td>1</td>\n",
              "      <td>0</td>\n",
              "      <td>1</td>\n",
              "      <td>6</td>\n",
              "      <td>2</td>\n",
              "      <td>1</td>\n",
              "    </tr>\n",
              "    <tr>\n",
              "      <th>3</th>\n",
              "      <td>1</td>\n",
              "      <td>0</td>\n",
              "      <td>2</td>\n",
              "      <td>997</td>\n",
              "      <td>0</td>\n",
              "      <td>3</td>\n",
              "      <td>0</td>\n",
              "      <td>3</td>\n",
              "      <td>2</td>\n",
              "      <td>2</td>\n",
              "    </tr>\n",
              "    <tr>\n",
              "      <th>4</th>\n",
              "      <td>3</td>\n",
              "      <td>0</td>\n",
              "      <td>2</td>\n",
              "      <td>1</td>\n",
              "      <td>963</td>\n",
              "      <td>0</td>\n",
              "      <td>3</td>\n",
              "      <td>1</td>\n",
              "      <td>1</td>\n",
              "      <td>8</td>\n",
              "    </tr>\n",
              "    <tr>\n",
              "      <th>5</th>\n",
              "      <td>1</td>\n",
              "      <td>1</td>\n",
              "      <td>0</td>\n",
              "      <td>15</td>\n",
              "      <td>1</td>\n",
              "      <td>857</td>\n",
              "      <td>7</td>\n",
              "      <td>2</td>\n",
              "      <td>5</td>\n",
              "      <td>3</td>\n",
              "    </tr>\n",
              "    <tr>\n",
              "      <th>6</th>\n",
              "      <td>3</td>\n",
              "      <td>4</td>\n",
              "      <td>3</td>\n",
              "      <td>2</td>\n",
              "      <td>2</td>\n",
              "      <td>3</td>\n",
              "      <td>940</td>\n",
              "      <td>1</td>\n",
              "      <td>0</td>\n",
              "      <td>0</td>\n",
              "    </tr>\n",
              "    <tr>\n",
              "      <th>7</th>\n",
              "      <td>1</td>\n",
              "      <td>7</td>\n",
              "      <td>7</td>\n",
              "      <td>2</td>\n",
              "      <td>0</td>\n",
              "      <td>0</td>\n",
              "      <td>0</td>\n",
              "      <td>1007</td>\n",
              "      <td>2</td>\n",
              "      <td>2</td>\n",
              "    </tr>\n",
              "    <tr>\n",
              "      <th>8</th>\n",
              "      <td>4</td>\n",
              "      <td>1</td>\n",
              "      <td>3</td>\n",
              "      <td>8</td>\n",
              "      <td>4</td>\n",
              "      <td>1</td>\n",
              "      <td>2</td>\n",
              "      <td>3</td>\n",
              "      <td>945</td>\n",
              "      <td>3</td>\n",
              "    </tr>\n",
              "    <tr>\n",
              "      <th>9</th>\n",
              "      <td>1</td>\n",
              "      <td>5</td>\n",
              "      <td>1</td>\n",
              "      <td>8</td>\n",
              "      <td>5</td>\n",
              "      <td>3</td>\n",
              "      <td>1</td>\n",
              "      <td>4</td>\n",
              "      <td>0</td>\n",
              "      <td>981</td>\n",
              "    </tr>\n",
              "  </tbody>\n",
              "</table>\n",
              "</div>\n",
              "    <div class=\"colab-df-buttons\">\n",
              "\n",
              "  <div class=\"colab-df-container\">\n",
              "    <button class=\"colab-df-convert\" onclick=\"convertToInteractive('df-338fa52b-973a-4238-8948-57c971045e99')\"\n",
              "            title=\"Convert this dataframe to an interactive table.\"\n",
              "            style=\"display:none;\">\n",
              "\n",
              "  <svg xmlns=\"http://www.w3.org/2000/svg\" height=\"24px\" viewBox=\"0 -960 960 960\">\n",
              "    <path d=\"M120-120v-720h720v720H120Zm60-500h600v-160H180v160Zm220 220h160v-160H400v160Zm0 220h160v-160H400v160ZM180-400h160v-160H180v160Zm440 0h160v-160H620v160ZM180-180h160v-160H180v160Zm440 0h160v-160H620v160Z\"/>\n",
              "  </svg>\n",
              "    </button>\n",
              "\n",
              "  <style>\n",
              "    .colab-df-container {\n",
              "      display:flex;\n",
              "      gap: 12px;\n",
              "    }\n",
              "\n",
              "    .colab-df-convert {\n",
              "      background-color: #E8F0FE;\n",
              "      border: none;\n",
              "      border-radius: 50%;\n",
              "      cursor: pointer;\n",
              "      display: none;\n",
              "      fill: #1967D2;\n",
              "      height: 32px;\n",
              "      padding: 0 0 0 0;\n",
              "      width: 32px;\n",
              "    }\n",
              "\n",
              "    .colab-df-convert:hover {\n",
              "      background-color: #E2EBFA;\n",
              "      box-shadow: 0px 1px 2px rgba(60, 64, 67, 0.3), 0px 1px 3px 1px rgba(60, 64, 67, 0.15);\n",
              "      fill: #174EA6;\n",
              "    }\n",
              "\n",
              "    .colab-df-buttons div {\n",
              "      margin-bottom: 4px;\n",
              "    }\n",
              "\n",
              "    [theme=dark] .colab-df-convert {\n",
              "      background-color: #3B4455;\n",
              "      fill: #D2E3FC;\n",
              "    }\n",
              "\n",
              "    [theme=dark] .colab-df-convert:hover {\n",
              "      background-color: #434B5C;\n",
              "      box-shadow: 0px 1px 3px 1px rgba(0, 0, 0, 0.15);\n",
              "      filter: drop-shadow(0px 1px 2px rgba(0, 0, 0, 0.3));\n",
              "      fill: #FFFFFF;\n",
              "    }\n",
              "  </style>\n",
              "\n",
              "    <script>\n",
              "      const buttonEl =\n",
              "        document.querySelector('#df-338fa52b-973a-4238-8948-57c971045e99 button.colab-df-convert');\n",
              "      buttonEl.style.display =\n",
              "        google.colab.kernel.accessAllowed ? 'block' : 'none';\n",
              "\n",
              "      async function convertToInteractive(key) {\n",
              "        const element = document.querySelector('#df-338fa52b-973a-4238-8948-57c971045e99');\n",
              "        const dataTable =\n",
              "          await google.colab.kernel.invokeFunction('convertToInteractive',\n",
              "                                                    [key], {});\n",
              "        if (!dataTable) return;\n",
              "\n",
              "        const docLinkHtml = 'Like what you see? Visit the ' +\n",
              "          '<a target=\"_blank\" href=https://colab.research.google.com/notebooks/data_table.ipynb>data table notebook</a>'\n",
              "          + ' to learn more about interactive tables.';\n",
              "        element.innerHTML = '';\n",
              "        dataTable['output_type'] = 'display_data';\n",
              "        await google.colab.output.renderOutput(dataTable, element);\n",
              "        const docLink = document.createElement('div');\n",
              "        docLink.innerHTML = docLinkHtml;\n",
              "        element.appendChild(docLink);\n",
              "      }\n",
              "    </script>\n",
              "  </div>\n",
              "\n",
              "\n",
              "<div id=\"df-b6c5be00-11c0-4d76-b763-2f6ffb405f78\">\n",
              "  <button class=\"colab-df-quickchart\" onclick=\"quickchart('df-b6c5be00-11c0-4d76-b763-2f6ffb405f78')\"\n",
              "            title=\"Suggest charts\"\n",
              "            style=\"display:none;\">\n",
              "\n",
              "<svg xmlns=\"http://www.w3.org/2000/svg\" height=\"24px\"viewBox=\"0 0 24 24\"\n",
              "     width=\"24px\">\n",
              "    <g>\n",
              "        <path d=\"M19 3H5c-1.1 0-2 .9-2 2v14c0 1.1.9 2 2 2h14c1.1 0 2-.9 2-2V5c0-1.1-.9-2-2-2zM9 17H7v-7h2v7zm4 0h-2V7h2v10zm4 0h-2v-4h2v4z\"/>\n",
              "    </g>\n",
              "</svg>\n",
              "  </button>\n",
              "\n",
              "<style>\n",
              "  .colab-df-quickchart {\n",
              "      --bg-color: #E8F0FE;\n",
              "      --fill-color: #1967D2;\n",
              "      --hover-bg-color: #E2EBFA;\n",
              "      --hover-fill-color: #174EA6;\n",
              "      --disabled-fill-color: #AAA;\n",
              "      --disabled-bg-color: #DDD;\n",
              "  }\n",
              "\n",
              "  [theme=dark] .colab-df-quickchart {\n",
              "      --bg-color: #3B4455;\n",
              "      --fill-color: #D2E3FC;\n",
              "      --hover-bg-color: #434B5C;\n",
              "      --hover-fill-color: #FFFFFF;\n",
              "      --disabled-bg-color: #3B4455;\n",
              "      --disabled-fill-color: #666;\n",
              "  }\n",
              "\n",
              "  .colab-df-quickchart {\n",
              "    background-color: var(--bg-color);\n",
              "    border: none;\n",
              "    border-radius: 50%;\n",
              "    cursor: pointer;\n",
              "    display: none;\n",
              "    fill: var(--fill-color);\n",
              "    height: 32px;\n",
              "    padding: 0;\n",
              "    width: 32px;\n",
              "  }\n",
              "\n",
              "  .colab-df-quickchart:hover {\n",
              "    background-color: var(--hover-bg-color);\n",
              "    box-shadow: 0 1px 2px rgba(60, 64, 67, 0.3), 0 1px 3px 1px rgba(60, 64, 67, 0.15);\n",
              "    fill: var(--button-hover-fill-color);\n",
              "  }\n",
              "\n",
              "  .colab-df-quickchart-complete:disabled,\n",
              "  .colab-df-quickchart-complete:disabled:hover {\n",
              "    background-color: var(--disabled-bg-color);\n",
              "    fill: var(--disabled-fill-color);\n",
              "    box-shadow: none;\n",
              "  }\n",
              "\n",
              "  .colab-df-spinner {\n",
              "    border: 2px solid var(--fill-color);\n",
              "    border-color: transparent;\n",
              "    border-bottom-color: var(--fill-color);\n",
              "    animation:\n",
              "      spin 1s steps(1) infinite;\n",
              "  }\n",
              "\n",
              "  @keyframes spin {\n",
              "    0% {\n",
              "      border-color: transparent;\n",
              "      border-bottom-color: var(--fill-color);\n",
              "      border-left-color: var(--fill-color);\n",
              "    }\n",
              "    20% {\n",
              "      border-color: transparent;\n",
              "      border-left-color: var(--fill-color);\n",
              "      border-top-color: var(--fill-color);\n",
              "    }\n",
              "    30% {\n",
              "      border-color: transparent;\n",
              "      border-left-color: var(--fill-color);\n",
              "      border-top-color: var(--fill-color);\n",
              "      border-right-color: var(--fill-color);\n",
              "    }\n",
              "    40% {\n",
              "      border-color: transparent;\n",
              "      border-right-color: var(--fill-color);\n",
              "      border-top-color: var(--fill-color);\n",
              "    }\n",
              "    60% {\n",
              "      border-color: transparent;\n",
              "      border-right-color: var(--fill-color);\n",
              "    }\n",
              "    80% {\n",
              "      border-color: transparent;\n",
              "      border-right-color: var(--fill-color);\n",
              "      border-bottom-color: var(--fill-color);\n",
              "    }\n",
              "    90% {\n",
              "      border-color: transparent;\n",
              "      border-bottom-color: var(--fill-color);\n",
              "    }\n",
              "  }\n",
              "</style>\n",
              "\n",
              "  <script>\n",
              "    async function quickchart(key) {\n",
              "      const quickchartButtonEl =\n",
              "        document.querySelector('#' + key + ' button');\n",
              "      quickchartButtonEl.disabled = true;  // To prevent multiple clicks.\n",
              "      quickchartButtonEl.classList.add('colab-df-spinner');\n",
              "      try {\n",
              "        const charts = await google.colab.kernel.invokeFunction(\n",
              "            'suggestCharts', [key], {});\n",
              "      } catch (error) {\n",
              "        console.error('Error during call to suggestCharts:', error);\n",
              "      }\n",
              "      quickchartButtonEl.classList.remove('colab-df-spinner');\n",
              "      quickchartButtonEl.classList.add('colab-df-quickchart-complete');\n",
              "    }\n",
              "    (() => {\n",
              "      let quickchartButtonEl =\n",
              "        document.querySelector('#df-b6c5be00-11c0-4d76-b763-2f6ffb405f78 button');\n",
              "      quickchartButtonEl.style.display =\n",
              "        google.colab.kernel.accessAllowed ? 'block' : 'none';\n",
              "    })();\n",
              "  </script>\n",
              "</div>\n",
              "\n",
              "    </div>\n",
              "  </div>\n"
            ]
          },
          "metadata": {},
          "execution_count": 409
        }
      ],
      "source": [
        "#使用 pandas 中的 crosstab 能夠很方便的建立混淆矩陣。\n",
        "pd.crosstab(y_test_label, prediction, rownames = ['label'], colnames = ['predict'])"
      ]
    }
  ],
  "metadata": {
    "accelerator": "GPU",
    "colab": {
      "provenance": []
    },
    "gpuClass": "standard",
    "kernelspec": {
      "display_name": "Python 3.7.9 ('py37_tensorflow')",
      "language": "python",
      "name": "python3"
    },
    "language_info": {
      "codemirror_mode": {
        "name": "ipython",
        "version": 3
      },
      "file_extension": ".py",
      "mimetype": "text/x-python",
      "name": "python",
      "nbconvert_exporter": "python",
      "pygments_lexer": "ipython3",
      "version": "3.7.9"
    },
    "vscode": {
      "interpreter": {
        "hash": "d194fa7cde35d0544ffd86d7eb28ea43b62c695d72f93f04bc49d19e1b400069"
      }
    }
  },
  "nbformat": 4,
  "nbformat_minor": 0
}