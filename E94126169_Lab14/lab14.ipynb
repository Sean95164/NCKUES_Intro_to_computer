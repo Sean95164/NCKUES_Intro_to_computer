{
  "cells": [
    {
      "cell_type": "markdown",
      "metadata": {
        "id": "4sVfxRF2UC2H"
      },
      "source": [
        "# 下載 MNIST 資料\n",
        "---\n",
        "首先，匯入 keras 和相關模組。"
      ]
    },
    {
      "cell_type": "code",
      "execution_count": 3,
      "metadata": {
        "id": "r43pJCz-n8vP"
      },
      "outputs": [],
      "source": [
        "# 匯入 numpy 和 pandas 模組，numpy 是 python 的程式庫，支援維度陣列與矩陣運算。\n",
        "# pandas 則提供檔案存取和數據操縱。\n",
        "import numpy as np\n",
        "import pandas as pd\n",
        "# 從 keras.utils 匯入 to_categroical，因為後續要將 label 標籤 轉換成 one-hot encoding。\n",
        "from tensorflow.keras.utils import to_categorical\n",
        "# 設定 seed 可以讓每次產生隨機值時，都會有相同的輸出。(若使用GPU，則無法每次皆相同)\n",
        "seed = 6169\n",
        "np.random.seed(seed)"
      ]
    },
    {
      "cell_type": "markdown",
      "metadata": {
        "id": "hgn5zsNAYY6A"
      },
      "source": [
        "Keras 中已經提供許多機器學習常用的數據集，包括波士頓房地產數據、CIFAR10、和這次範例要使用的手寫數據集。所以先從 keras 匯入 MNIST。\n",
        "\n",
        "第一次執行 mnist.load_data() ，程式會檢查目錄是否已經有檔案，如果沒有就會自動下載，所以第一次可能都會比較久。之後再次執行時不用再次下載就會快速很多。\n"
      ]
    },
    {
      "cell_type": "code",
      "execution_count": 4,
      "metadata": {
        "id": "vlDNq1x_n8vS",
        "colab": {
          "base_uri": "https://localhost:8080/"
        },
        "outputId": "728e8dc4-0b5f-403c-973d-91cf9de1d040"
      },
      "outputs": [
        {
          "output_type": "stream",
          "name": "stdout",
          "text": [
            "Downloading data from https://storage.googleapis.com/tensorflow/tf-keras-datasets/mnist.npz\n",
            "11490434/11490434 [==============================] - 0s 0us/step\n"
          ]
        }
      ],
      "source": [
        "from tensorflow.keras.datasets import mnist,cifar10\n",
        "(X_train_image, y_train_label),\\\n",
        "    (X_test_image, y_test_label) = mnist.load_data()"
      ]
    },
    {
      "cell_type": "markdown",
      "metadata": {
        "id": "4GZl5_1ndtWZ"
      },
      "source": [
        "先來看看 MNIST 資料數據集的筆數，還有訓練資料的組成。\n",
        "\n",
        "可以看到 train 訓練資料有 60000 筆，test 測試資料有 10000 筆。\n",
        "\n",
        "訓練資料是由 images 和 labels 所組成共 60000 筆， images 是單色的數字影像，labels 是數字影像對應的真實值。"
      ]
    },
    {
      "cell_type": "code",
      "execution_count": 5,
      "metadata": {
        "id": "FsuxbJdEn8vS",
        "colab": {
          "base_uri": "https://localhost:8080/"
        },
        "outputId": "9dcefab6-bf62-4de6-f086-a3dc38223c0c"
      },
      "outputs": [
        {
          "output_type": "stream",
          "name": "stdout",
          "text": [
            "train data :  60000\n",
            "test data :  10000\n"
          ]
        }
      ],
      "source": [
        "print('train data : ', len(X_train_image))\n",
        "print('test data : ', len(X_test_image))"
      ]
    },
    {
      "cell_type": "code",
      "execution_count": 6,
      "metadata": {
        "id": "sxNW-yfUn8vT",
        "colab": {
          "base_uri": "https://localhost:8080/"
        },
        "outputId": "98558768-b247-4c3a-9d29-b02ddaa3fa1f"
      },
      "outputs": [
        {
          "output_type": "stream",
          "name": "stdout",
          "text": [
            "x_train_image :  (60000, 28, 28)\n",
            "y_train_label :  (60000,)\n"
          ]
        }
      ],
      "source": [
        "print('x_train_image : ', X_train_image.shape)\n",
        "print('y_train_label : ', y_train_label.shape)"
      ]
    },
    {
      "cell_type": "markdown",
      "metadata": {
        "id": "p1UqvEszhGu7"
      },
      "source": [
        "# 建立 plot_image 函式來顯示數字影像\n",
        "---\n",
        "來看看剛剛匯入的手寫數字圖像。\n",
        "\n"
      ]
    },
    {
      "cell_type": "code",
      "execution_count": 7,
      "metadata": {
        "id": "aldFBwdNn8vU"
      },
      "outputs": [],
      "source": [
        "import matplotlib.pyplot as plt\n",
        "def plot_image(image):\n",
        "    # 設定圖形顯示大小\n",
        "    fig = plt.gcf()\n",
        "    fig.set_size_inches(2, 2)\n",
        "    # 使用 plt.imshow() 顯示圖像，傳入參數是 28 X 28 的圖形，\n",
        "    # cmap 參數設定為 binary 以黑白灰階顯示\n",
        "    plt.imshow(image, cmap = 'binary')\n",
        "    # 開始繪圖\n",
        "    plt.show()"
      ]
    },
    {
      "cell_type": "markdown",
      "metadata": {
        "id": "-5OMZLgiljix"
      },
      "source": [
        "傳入訓練集第一筆資料，來看看他的影像。"
      ]
    },
    {
      "cell_type": "code",
      "execution_count": 8,
      "metadata": {
        "id": "qrrZ-gcfn8vU",
        "colab": {
          "base_uri": "https://localhost:8080/",
          "height": 217
        },
        "outputId": "b8f16219-c7cc-4626-b2e1-b583e9e605dd"
      },
      "outputs": [
        {
          "output_type": "display_data",
          "data": {
            "text/plain": [
              "<Figure size 200x200 with 1 Axes>"
            ],
            "image/png": "[encoded data removed]"
          },
          "metadata": {}
        }
      ],
      "source": [
        "plot_image(X_train_image[200])"
      ]
    },
    {
      "cell_type": "markdown",
      "metadata": {
        "id": "R43L94LSl2IK"
      },
      "source": [
        "看看第一筆資料的 label"
      ]
    },
    {
      "cell_type": "code",
      "execution_count": 9,
      "metadata": {
        "id": "CctZ26v_n8vV",
        "colab": {
          "base_uri": "https://localhost:8080/"
        },
        "outputId": "11e45526-36b3-4a16-a3b9-20bd45d92a6e"
      },
      "outputs": [
        {
          "output_type": "execute_result",
          "data": {
            "text/plain": [
              "1"
            ]
          },
          "metadata": {},
          "execution_count": 9
        }
      ],
      "source": [
        "y_train_label[200]"
      ]
    },
    {
      "cell_type": "markdown",
      "metadata": {
        "id": "oXPaFNNjounB"
      },
      "source": [
        "# 查看多筆資料 images 與 labels\n",
        "---\n",
        "定義 plot_images_labels_prediction() 函式，傳入以下參數：images(數字影像)、labels(對應數字真實值)、prediction(預測結果)、idx(開始顯示影像的index)、num(要顯示的資料筆數，預設是10，不超過25)\n"
      ]
    },
    {
      "cell_type": "code",
      "execution_count": 10,
      "metadata": {
        "id": "wVDmYBSWn8vV"
      },
      "outputs": [],
      "source": [
        "def plot_images_labels_prediction(images, labels, prediction,\n",
        "                                    idx, num = 10):\n",
        "    # 設定顯示圖形大小\n",
        "    fig = plt.gcf()\n",
        "    fig.set_size_inches(12, 14)\n",
        "    # 如果顯示筆數大於25 則將他設定為25 以避免錯誤\n",
        "    if num > 25: num = 25\n",
        "    # 使用 for 迴圈依序畫出 num 個數字圖形\n",
        "    for i in range(0, num):\n",
        "        ax = plt.subplot(5, 5, 1+i) # 建立 5 X 5 的 subgraph 子圖形\n",
        "        ax.imshow(images[idx], cmap = 'binary') # 畫出 subgraph 子圖形\n",
        "        title = \"label=\" + str(labels[idx]) # 設定子圖形 title 顯示標籤欄位\n",
        "        if len(prediction) > 0: # 如果 prediction 有傳入值\n",
        "            title += \",predict=\" + str(prediction[idx]) # 將 prediction 加入 title\n",
        "        ax.set_title(title, fontsize = 10) # 設定標題大小\n",
        "        ax.set_xticks([]); ax.set_yticks([]) # 設定不顯示刻度\n",
        "        idx += 1 # 讀取下一筆\n",
        "    plt.show() # 開始畫圖"
      ]
    },
    {
      "cell_type": "markdown",
      "metadata": {
        "id": "epHsMhfHzBAT"
      },
      "source": [
        "顯示訓練資料前 10 筆資料。不過目前還沒有預測結果所以傳入空 list ，由第 0 筆開始顯示至第 9 筆。"
      ]
    },
    {
      "cell_type": "code",
      "execution_count": 11,
      "metadata": {
        "id": "y-iLff1vn8vW",
        "colab": {
          "base_uri": "https://localhost:8080/",
          "height": 439
        },
        "outputId": "a3d929e5-568d-4bf9-bf8b-083b7d551614"
      },
      "outputs": [
        {
          "output_type": "display_data",
          "data": {
            "text/plain": [
              "<Figure size 1200x1400 with 10 Axes>"
            ],
            "image/png": "[encoded data removed]"
          },
          "metadata": {}
        }
      ],
      "source": [
        "plot_images_labels_prediction(X_train_image, y_train_label, [], 0, 10)"
      ]
    },
    {
      "cell_type": "markdown",
      "metadata": {
        "id": "Ae4v3BOYzfz0"
      },
      "source": [
        "查看 test 測試資料筆數，可以看到共10000筆資料。"
      ]
    },
    {
      "cell_type": "code",
      "execution_count": 12,
      "metadata": {
        "id": "TKTXr0uin8vW",
        "colab": {
          "base_uri": "https://localhost:8080/"
        },
        "outputId": "8acea172-a527-4f56-bcf9-acaa87330364"
      },
      "outputs": [
        {
          "output_type": "stream",
          "name": "stdout",
          "text": [
            "x_test_image :  (10000, 28, 28)\n",
            "y_test_label :  (10000,)\n"
          ]
        }
      ],
      "source": [
        "print('x_test_image : ', X_test_image.shape)\n",
        "print('y_test_label : ', y_test_label.shape)"
      ]
    },
    {
      "cell_type": "markdown",
      "metadata": {
        "id": "KteBBFUTzr3s"
      },
      "source": [
        "顯示測試資料前 10 筆資料圖形。"
      ]
    },
    {
      "cell_type": "code",
      "execution_count": 13,
      "metadata": {
        "id": "ISt-J68Zn8vX",
        "colab": {
          "base_uri": "https://localhost:8080/",
          "height": 1000
        },
        "outputId": "4cb98077-a4b2-4149-f349-002dcaba8f68"
      },
      "outputs": [
        {
          "output_type": "display_data",
          "data": {
            "text/plain": [
              "<Figure size 1200x1400 with 25 Axes>"
            ],
            "image/png": "[encoded data removed]"
          },
          "metadata": {}
        }
      ],
      "source": [
        "plot_images_labels_prediction(X_test_image, y_test_label, [], 0, 25)"
      ]
    },
    {
      "cell_type": "markdown",
      "metadata": {
        "id": "HRNmke3J1E1t"
      },
      "source": [
        "# feature(數字影像的特徵值)資料預處理\n"
      ]
    },
    {
      "cell_type": "code",
      "execution_count": 14,
      "metadata": {
        "id": "ms3N-1iUn8vX"
      },
      "outputs": [],
      "source": [
        "X_Train = X_train_image.astype('float32')\n",
        "X_Test = X_test_image.astype('float32')"
      ]
    },
    {
      "cell_type": "markdown",
      "metadata": {
        "id": "AdqLK9G12DbJ"
      },
      "source": [
        "查看一下每一個數字影像都變成 784 個 float 數字。"
      ]
    },
    {
      "cell_type": "code",
      "execution_count": 15,
      "metadata": {
        "id": "uBbTQ0gWn8vX",
        "colab": {
          "base_uri": "https://localhost:8080/"
        },
        "outputId": "e81b6cf7-0081-4350-8f7a-c3afb206bd36"
      },
      "outputs": [
        {
          "output_type": "stream",
          "name": "stdout",
          "text": [
            "x_train :  (60000, 28, 28)\n",
            "x_test :  (10000, 28, 28)\n"
          ]
        }
      ],
      "source": [
        "print('x_train : ', X_Train.shape)\n",
        "print('x_test : ', X_Test.shape)"
      ]
    },
    {
      "cell_type": "markdown",
      "metadata": {
        "id": "ivdFFYiD2WqY"
      },
      "source": [
        "將 image 的數字標準化。\n",
        "\n",
        "因為圖像的數字是介於 0 到 255，所以最簡單的方法就是除以 255。"
      ]
    },
    {
      "cell_type": "code",
      "execution_count": 16,
      "metadata": {
        "id": "NDMKuvtIn8vY"
      },
      "outputs": [],
      "source": [
        "X_Train_normalize = X_Train / 255\n",
        "X_Test_normalize = X_Test / 255"
      ]
    },
    {
      "cell_type": "markdown",
      "metadata": {
        "id": "CDWfCYgu29br"
      },
      "source": [
        "# labels(數字影像對應真實值)資料預處理\n",
        "---\n",
        "先來查看一下訓練資料 label 標籤欄位前五筆資料，可以看到這是 0 ~ 9 的單一數字。"
      ]
    },
    {
      "cell_type": "code",
      "execution_count": 17,
      "metadata": {
        "id": "_OPr_LFYn8vY",
        "colab": {
          "base_uri": "https://localhost:8080/"
        },
        "outputId": "5175f6d7-f6c0-460b-8e8e-c4bc22d6f33d"
      },
      "outputs": [
        {
          "output_type": "execute_result",
          "data": {
            "text/plain": [
              "array([5, 0, 4, 1, 9], dtype=uint8)"
            ]
          },
          "metadata": {},
          "execution_count": 17
        }
      ],
      "source": [
        "y_train_label[:5]"
      ]
    },
    {
      "cell_type": "markdown",
      "metadata": {
        "id": "0HVpRwTMlWTo"
      },
      "source": [
        "使用我們開頭匯入的 to_categorical函式，傳入 label 標籤，將他們轉換成 one-hot encoding。"
      ]
    },
    {
      "cell_type": "code",
      "execution_count": 18,
      "metadata": {
        "id": "Am_djE9Cn8vY"
      },
      "outputs": [],
      "source": [
        "y_TrainOneHot = to_categorical(y_train_label)\n",
        "y_TestOneHot = to_categorical(y_test_label)"
      ]
    },
    {
      "cell_type": "markdown",
      "metadata": {
        "id": "IdhtS_VDl6kg"
      },
      "source": [
        "查看轉換過後的結果。"
      ]
    },
    {
      "cell_type": "code",
      "execution_count": 19,
      "metadata": {
        "id": "ehbvMVISn8vZ",
        "colab": {
          "base_uri": "https://localhost:8080/"
        },
        "outputId": "ed42a852-30ed-4361-9668-f591276d6697"
      },
      "outputs": [
        {
          "output_type": "execute_result",
          "data": {
            "text/plain": [
              "array([[0., 0., 0., 0., 0., 1., 0., 0., 0., 0.],\n",
              "       [1., 0., 0., 0., 0., 0., 0., 0., 0., 0.],\n",
              "       [0., 0., 0., 0., 1., 0., 0., 0., 0., 0.],\n",
              "       [0., 1., 0., 0., 0., 0., 0., 0., 0., 0.],\n",
              "       [0., 0., 0., 0., 0., 0., 0., 0., 0., 1.]], dtype=float32)"
            ]
          },
          "metadata": {},
          "execution_count": 19
        }
      ],
      "source": [
        "y_TrainOneHot[:5]"
      ]
    },
    {
      "cell_type": "markdown",
      "metadata": {
        "id": "VZ24AXlCmC2g"
      },
      "source": [
        "# 建立 MLP 模型\n",
        "---\n",
        "接下來建立我們的多層感知器模型，輸入層共有 (28*28) 個神經元，隱藏層 32 個神經元，最後輸出層共有 10 個神經元。\n",
        "\n",
        "首先先匯入所需要的模組。"
      ]
    },
    {
      "cell_type": "code",
      "execution_count": 20,
      "metadata": {
        "id": "6t3RUk-wn8vZ"
      },
      "outputs": [],
      "source": [
        "from tensorflow.keras import layers, metrics\n",
        "from tensorflow.keras.layers import Dense,InputLayer,Flatten\n",
        "from tensorflow.keras import models\n",
        "import tensorflow as tf\n",
        "tf.random.set_seed(seed)"
      ]
    },
    {
      "cell_type": "markdown",
      "metadata": {
        "id": "_KqO-SLQm7Dk"
      },
      "source": [
        "建立 Sequential 一個線性堆疊模型，後續只要使用 model.add() 將個神經網路層依序加入模型即可。"
      ]
    },
    {
      "cell_type": "code",
      "execution_count": 21,
      "metadata": {
        "id": "RJKfB6H8n8vZ"
      },
      "outputs": [],
      "source": [
        "model = models.Sequential()"
      ]
    },
    {
      "cell_type": "markdown",
      "source": [
        "建立輸入層\n",
        "1.   設定輸入層神經元 維度為 (28,28,1)。\n",
        "2.   把(28,28,1)攤平，變成一維"
      ],
      "metadata": {
        "id": "3PvA6D4BrQmP"
      }
    },
    {
      "cell_type": "code",
      "source": [
        "model.add(InputLayer(input_shape=(28,28,1)))\n",
        "model.add(Flatten())"
      ],
      "metadata": {
        "id": "MlQx3w1krP2X"
      },
      "execution_count": 22,
      "outputs": []
    },
    {
      "cell_type": "markdown",
      "metadata": {
        "id": "uvAqC0q3nZdO"
      },
      "source": [
        "建立隱藏層。\n",
        "1.   定義隱藏層神經元 32 個。\n",
        "2.   設定激活函數為 sigmoid。\n",
        "\n",
        "可以在keras官方文件查看可以使用的Activation function\n",
        "https://keras.io/zh/activations/\n",
        "\n"
      ]
    },
    {
      "cell_type": "code",
      "execution_count": 23,
      "metadata": {
        "id": "2bCNDEF7n8vZ"
      },
      "outputs": [],
      "source": [
        "model.add(Dense(128,  kernel_initializer = 'random_uniform',activation = 'relu'))\n"
      ]
    },
    {
      "cell_type": "markdown",
      "metadata": {
        "id": "DU9GQ-0VoRaS"
      },
      "source": [
        "建立輸出層總共 10 個神經元，對應要分類的數字類別 0 ~ 9 。設定激活函數為 softmax ，這樣每一個神經元的輸出結果可視為預測每一個數字的機率。"
      ]
    },
    {
      "cell_type": "code",
      "execution_count": 24,
      "metadata": {
        "id": "4cgofZ9Yn8va"
      },
      "outputs": [],
      "source": [
        "model.add(Dense(10, kernel_initializer = 'normal', activation = 'softmax'))"
      ]
    },
    {
      "cell_type": "markdown",
      "metadata": {
        "id": "I5tigyhWo3eg"
      },
      "source": [
        "來看看我們建好的模型的摘要。"
      ]
    },
    {
      "cell_type": "code",
      "execution_count": 25,
      "metadata": {
        "id": "yw-ifJ58n8va",
        "colab": {
          "base_uri": "https://localhost:8080/"
        },
        "outputId": "d12aab13-7a5c-4b39-8448-f07447ff7ae8"
      },
      "outputs": [
        {
          "output_type": "stream",
          "name": "stdout",
          "text": [
            "Model: \"sequential\"\n",
            "_________________________________________________________________\n",
            " Layer (type)                Output Shape              Param #   \n",
            "=================================================================\n",
            " flatten (Flatten)           (None, 784)               0         \n",
            "                                                                 \n",
            " dense (Dense)               (None, 128)               100480    \n",
            "                                                                 \n",
            " dense_1 (Dense)             (None, 10)                1290      \n",
            "                                                                 \n",
            "=================================================================\n",
            "Total params: 101770 (397.54 KB)\n",
            "Trainable params: 101770 (397.54 KB)\n",
            "Non-trainable params: 0 (0.00 Byte)\n",
            "_________________________________________________________________\n",
            "None\n"
          ]
        }
      ],
      "source": [
        "print(model.summary())"
      ]
    },
    {
      "cell_type": "markdown",
      "metadata": {
        "id": "mR__ZeJ8pS0Y"
      },
      "source": [
        "# 進行訓練\n",
        "---\n",
        "首先使用 compile ，對訓練模型進行設定。相關參數有：\n",
        "1.   loss : 設定損失函數，這邊使用 CategoricalCrossentropy。另外也還有很多不同的函數，可以到 keras 官網查詢，不同的模型和資料都有他們最適合的函數。\n",
        "2.   optimizer : 設定優化方法，這邊使用 sgd 方法。同樣 keras 也提供很多種優化方法。https://keras.io/zh/optimizers/\n",
        "1.   metrics : 設定評估模型的方式是 accuracy 準確率。"
      ]
    },
    {
      "cell_type": "code",
      "execution_count": 26,
      "metadata": {
        "id": "CNMv_62tn8va"
      },
      "outputs": [],
      "source": [
        "# loss_function = 'CategoricalCrossentropy'\n",
        "loss_function = 'BinaryFocalCrossentropy'\n",
        "optimize_function = 'Adam' # Adadelta , Adagrad ,Adam ,Adamax ,FTRL ,Nadam ,RMSprop ,sgd\n",
        "model.compile(loss = loss_function, optimizer = optimize_function, metrics = ['accuracy'])"
      ]
    },
    {
      "cell_type": "markdown",
      "metadata": {
        "id": "jeXXrNn_rCxB"
      },
      "source": [
        "開始訓練，過程都會儲存在 train_history 變數，其中的相關參數：\n",
        "1.   設定 validation_split = 0.2 ，將訓練資料 80% 作為訓練，20% 作為驗證資料。\n",
        "1.   設定 epochs 執行 10 次訓練週期。每一批次 batch_size 有 200 筆資料。\n",
        "2.   verbose = 2，顯示訓練過程。"
      ]
    },
    {
      "cell_type": "code",
      "execution_count": 27,
      "metadata": {
        "id": "A9mb8zN3n8va",
        "colab": {
          "base_uri": "https://localhost:8080/"
        },
        "outputId": "3a5afa6b-717b-4380-842d-d55d509e63c4"
      },
      "outputs": [
        {
          "output_type": "stream",
          "name": "stdout",
          "text": [
            "Epoch 1/70\n",
            "240/240 - 5s - loss: 0.0144 - accuracy: 0.8618 - val_loss: 0.0082 - val_accuracy: 0.9330 - 5s/epoch - 19ms/step\n",
            "Epoch 2/70\n",
            "240/240 - 1s - loss: 0.0072 - accuracy: 0.9427 - val_loss: 0.0063 - val_accuracy: 0.9523 - 730ms/epoch - 3ms/step\n",
            "Epoch 3/70\n",
            "240/240 - 1s - loss: 0.0054 - accuracy: 0.9585 - val_loss: 0.0050 - val_accuracy: 0.9630 - 736ms/epoch - 3ms/step\n",
            "Epoch 4/70\n",
            "240/240 - 1s - loss: 0.0043 - accuracy: 0.9685 - val_loss: 0.0044 - val_accuracy: 0.9668 - 735ms/epoch - 3ms/step\n",
            "Epoch 5/70\n",
            "240/240 - 1s - loss: 0.0036 - accuracy: 0.9751 - val_loss: 0.0041 - val_accuracy: 0.9689 - 720ms/epoch - 3ms/step\n",
            "Epoch 6/70\n",
            "240/240 - 1s - loss: 0.0030 - accuracy: 0.9793 - val_loss: 0.0040 - val_accuracy: 0.9718 - 708ms/epoch - 3ms/step\n",
            "Epoch 7/70\n",
            "240/240 - 1s - loss: 0.0025 - accuracy: 0.9826 - val_loss: 0.0038 - val_accuracy: 0.9736 - 703ms/epoch - 3ms/step\n",
            "Epoch 8/70\n",
            "240/240 - 1s - loss: 0.0022 - accuracy: 0.9855 - val_loss: 0.0038 - val_accuracy: 0.9736 - 869ms/epoch - 4ms/step\n",
            "Epoch 9/70\n",
            "240/240 - 1s - loss: 0.0019 - accuracy: 0.9877 - val_loss: 0.0039 - val_accuracy: 0.9740 - 1s/epoch - 4ms/step\n",
            "Epoch 10/70\n",
            "240/240 - 1s - loss: 0.0017 - accuracy: 0.9901 - val_loss: 0.0036 - val_accuracy: 0.9764 - 1s/epoch - 5ms/step\n",
            "Epoch 11/70\n",
            "240/240 - 1s - loss: 0.0015 - accuracy: 0.9915 - val_loss: 0.0038 - val_accuracy: 0.9758 - 856ms/epoch - 4ms/step\n",
            "Epoch 12/70\n",
            "240/240 - 1s - loss: 0.0012 - accuracy: 0.9935 - val_loss: 0.0041 - val_accuracy: 0.9751 - 708ms/epoch - 3ms/step\n",
            "Epoch 13/70\n",
            "240/240 - 1s - loss: 0.0010 - accuracy: 0.9944 - val_loss: 0.0038 - val_accuracy: 0.9774 - 729ms/epoch - 3ms/step\n",
            "Epoch 14/70\n",
            "240/240 - 1s - loss: 9.0270e-04 - accuracy: 0.9959 - val_loss: 0.0038 - val_accuracy: 0.9778 - 736ms/epoch - 3ms/step\n",
            "Epoch 15/70\n",
            "240/240 - 1s - loss: 7.5088e-04 - accuracy: 0.9969 - val_loss: 0.0041 - val_accuracy: 0.9767 - 754ms/epoch - 3ms/step\n",
            "Epoch 16/70\n",
            "240/240 - 1s - loss: 6.6264e-04 - accuracy: 0.9975 - val_loss: 0.0041 - val_accuracy: 0.9774 - 756ms/epoch - 3ms/step\n",
            "Epoch 17/70\n",
            "240/240 - 1s - loss: 5.4190e-04 - accuracy: 0.9983 - val_loss: 0.0042 - val_accuracy: 0.9775 - 763ms/epoch - 3ms/step\n",
            "Epoch 18/70\n",
            "240/240 - 1s - loss: 4.7524e-04 - accuracy: 0.9984 - val_loss: 0.0049 - val_accuracy: 0.9732 - 693ms/epoch - 3ms/step\n",
            "Epoch 19/70\n",
            "240/240 - 1s - loss: 4.1283e-04 - accuracy: 0.9987 - val_loss: 0.0043 - val_accuracy: 0.9772 - 702ms/epoch - 3ms/step\n",
            "Epoch 20/70\n",
            "240/240 - 1s - loss: 3.1905e-04 - accuracy: 0.9992 - val_loss: 0.0044 - val_accuracy: 0.9765 - 740ms/epoch - 3ms/step\n",
            "Epoch 21/70\n",
            "240/240 - 1s - loss: 2.6716e-04 - accuracy: 0.9995 - val_loss: 0.0045 - val_accuracy: 0.9776 - 728ms/epoch - 3ms/step\n",
            "Epoch 22/70\n",
            "240/240 - 1s - loss: 2.6915e-04 - accuracy: 0.9995 - val_loss: 0.0046 - val_accuracy: 0.9779 - 697ms/epoch - 3ms/step\n",
            "Epoch 23/70\n",
            "240/240 - 1s - loss: 2.2651e-04 - accuracy: 0.9996 - val_loss: 0.0047 - val_accuracy: 0.9774 - 718ms/epoch - 3ms/step\n",
            "Epoch 24/70\n",
            "240/240 - 1s - loss: 1.6538e-04 - accuracy: 0.9999 - val_loss: 0.0047 - val_accuracy: 0.9786 - 750ms/epoch - 3ms/step\n",
            "Epoch 25/70\n",
            "240/240 - 1s - loss: 1.2209e-04 - accuracy: 1.0000 - val_loss: 0.0048 - val_accuracy: 0.9783 - 1s/epoch - 5ms/step\n",
            "Epoch 26/70\n",
            "240/240 - 1s - loss: 9.1935e-05 - accuracy: 1.0000 - val_loss: 0.0050 - val_accuracy: 0.9778 - 1s/epoch - 5ms/step\n",
            "Epoch 27/70\n",
            "240/240 - 1s - loss: 8.0348e-05 - accuracy: 0.9999 - val_loss: 0.0049 - val_accuracy: 0.9789 - 1s/epoch - 6ms/step\n",
            "Epoch 28/70\n",
            "240/240 - 1s - loss: 6.5465e-05 - accuracy: 1.0000 - val_loss: 0.0051 - val_accuracy: 0.9778 - 1s/epoch - 4ms/step\n",
            "Epoch 29/70\n",
            "240/240 - 1s - loss: 6.2419e-05 - accuracy: 0.9999 - val_loss: 0.0052 - val_accuracy: 0.9772 - 763ms/epoch - 3ms/step\n",
            "Epoch 30/70\n",
            "240/240 - 1s - loss: 9.0540e-04 - accuracy: 0.9948 - val_loss: 0.0061 - val_accuracy: 0.9746 - 735ms/epoch - 3ms/step\n",
            "Epoch 31/70\n",
            "240/240 - 1s - loss: 2.5804e-04 - accuracy: 0.9991 - val_loss: 0.0057 - val_accuracy: 0.9775 - 702ms/epoch - 3ms/step\n",
            "Epoch 32/70\n",
            "240/240 - 1s - loss: 7.6213e-05 - accuracy: 1.0000 - val_loss: 0.0054 - val_accuracy: 0.9789 - 694ms/epoch - 3ms/step\n",
            "Epoch 33/70\n",
            "240/240 - 1s - loss: 4.1265e-05 - accuracy: 1.0000 - val_loss: 0.0055 - val_accuracy: 0.9787 - 737ms/epoch - 3ms/step\n",
            "Epoch 34/70\n",
            "240/240 - 1s - loss: 3.1089e-05 - accuracy: 1.0000 - val_loss: 0.0055 - val_accuracy: 0.9784 - 710ms/epoch - 3ms/step\n",
            "Epoch 35/70\n",
            "240/240 - 1s - loss: 2.7183e-05 - accuracy: 1.0000 - val_loss: 0.0056 - val_accuracy: 0.9786 - 730ms/epoch - 3ms/step\n",
            "Epoch 36/70\n",
            "240/240 - 1s - loss: 2.4124e-05 - accuracy: 1.0000 - val_loss: 0.0056 - val_accuracy: 0.9787 - 743ms/epoch - 3ms/step\n",
            "Epoch 37/70\n",
            "240/240 - 1s - loss: 2.1180e-05 - accuracy: 1.0000 - val_loss: 0.0056 - val_accuracy: 0.9793 - 719ms/epoch - 3ms/step\n",
            "Epoch 38/70\n",
            "240/240 - 1s - loss: 1.9749e-05 - accuracy: 1.0000 - val_loss: 0.0057 - val_accuracy: 0.9786 - 741ms/epoch - 3ms/step\n",
            "Epoch 39/70\n",
            "240/240 - 1s - loss: 1.7464e-05 - accuracy: 1.0000 - val_loss: 0.0057 - val_accuracy: 0.9797 - 739ms/epoch - 3ms/step\n",
            "Epoch 40/70\n",
            "240/240 - 1s - loss: 1.5281e-05 - accuracy: 1.0000 - val_loss: 0.0058 - val_accuracy: 0.9790 - 1s/epoch - 4ms/step\n",
            "Epoch 41/70\n",
            "240/240 - 1s - loss: 1.3758e-05 - accuracy: 1.0000 - val_loss: 0.0058 - val_accuracy: 0.9793 - 938ms/epoch - 4ms/step\n",
            "Epoch 42/70\n",
            "240/240 - 1s - loss: 1.2789e-05 - accuracy: 1.0000 - val_loss: 0.0059 - val_accuracy: 0.9793 - 1s/epoch - 4ms/step\n",
            "Epoch 43/70\n",
            "240/240 - 1s - loss: 1.1345e-05 - accuracy: 1.0000 - val_loss: 0.0059 - val_accuracy: 0.9793 - 857ms/epoch - 4ms/step\n",
            "Epoch 44/70\n",
            "240/240 - 1s - loss: 1.1661e-05 - accuracy: 1.0000 - val_loss: 0.0059 - val_accuracy: 0.9794 - 731ms/epoch - 3ms/step\n",
            "Epoch 45/70\n",
            "240/240 - 1s - loss: 1.5375e-04 - accuracy: 0.9992 - val_loss: 0.0083 - val_accuracy: 0.9703 - 740ms/epoch - 3ms/step\n",
            "Epoch 46/70\n",
            "240/240 - 1s - loss: 0.0014 - accuracy: 0.9928 - val_loss: 0.0065 - val_accuracy: 0.9762 - 741ms/epoch - 3ms/step\n",
            "Epoch 47/70\n",
            "240/240 - 1s - loss: 1.5040e-04 - accuracy: 0.9995 - val_loss: 0.0066 - val_accuracy: 0.9769 - 721ms/epoch - 3ms/step\n",
            "Epoch 48/70\n",
            "240/240 - 1s - loss: 3.6300e-05 - accuracy: 1.0000 - val_loss: 0.0062 - val_accuracy: 0.9792 - 710ms/epoch - 3ms/step\n",
            "Epoch 49/70\n",
            "240/240 - 1s - loss: 1.8092e-05 - accuracy: 1.0000 - val_loss: 0.0062 - val_accuracy: 0.9796 - 721ms/epoch - 3ms/step\n",
            "Epoch 50/70\n",
            "240/240 - 1s - loss: 1.4505e-05 - accuracy: 1.0000 - val_loss: 0.0062 - val_accuracy: 0.9796 - 1s/epoch - 4ms/step\n",
            "Epoch 51/70\n",
            "240/240 - 1s - loss: 1.2315e-05 - accuracy: 1.0000 - val_loss: 0.0063 - val_accuracy: 0.9797 - 743ms/epoch - 3ms/step\n",
            "Epoch 52/70\n",
            "240/240 - 1s - loss: 1.0909e-05 - accuracy: 1.0000 - val_loss: 0.0063 - val_accuracy: 0.9793 - 715ms/epoch - 3ms/step\n",
            "Epoch 53/70\n",
            "240/240 - 1s - loss: 9.7197e-06 - accuracy: 1.0000 - val_loss: 0.0063 - val_accuracy: 0.9800 - 708ms/epoch - 3ms/step\n",
            "Epoch 54/70\n",
            "240/240 - 1s - loss: 8.7361e-06 - accuracy: 1.0000 - val_loss: 0.0063 - val_accuracy: 0.9795 - 713ms/epoch - 3ms/step\n",
            "Epoch 55/70\n",
            "240/240 - 1s - loss: 7.9266e-06 - accuracy: 1.0000 - val_loss: 0.0064 - val_accuracy: 0.9796 - 719ms/epoch - 3ms/step\n",
            "Epoch 56/70\n",
            "240/240 - 1s - loss: 7.2594e-06 - accuracy: 1.0000 - val_loss: 0.0064 - val_accuracy: 0.9801 - 781ms/epoch - 3ms/step\n",
            "Epoch 57/70\n",
            "240/240 - 1s - loss: 6.6056e-06 - accuracy: 1.0000 - val_loss: 0.0064 - val_accuracy: 0.9797 - 1s/epoch - 4ms/step\n",
            "Epoch 58/70\n",
            "240/240 - 1s - loss: 6.0501e-06 - accuracy: 1.0000 - val_loss: 0.0064 - val_accuracy: 0.9797 - 980ms/epoch - 4ms/step\n",
            "Epoch 59/70\n",
            "240/240 - 1s - loss: 5.5515e-06 - accuracy: 1.0000 - val_loss: 0.0064 - val_accuracy: 0.9797 - 1s/epoch - 4ms/step\n",
            "Epoch 60/70\n",
            "240/240 - 1s - loss: 5.0770e-06 - accuracy: 1.0000 - val_loss: 0.0065 - val_accuracy: 0.9798 - 771ms/epoch - 3ms/step\n",
            "Epoch 61/70\n",
            "240/240 - 1s - loss: 4.6902e-06 - accuracy: 1.0000 - val_loss: 0.0064 - val_accuracy: 0.9797 - 697ms/epoch - 3ms/step\n",
            "Epoch 62/70\n",
            "240/240 - 1s - loss: 4.3323e-06 - accuracy: 1.0000 - val_loss: 0.0065 - val_accuracy: 0.9795 - 715ms/epoch - 3ms/step\n",
            "Epoch 63/70\n",
            "240/240 - 1s - loss: 3.9643e-06 - accuracy: 1.0000 - val_loss: 0.0066 - val_accuracy: 0.9797 - 719ms/epoch - 3ms/step\n",
            "Epoch 64/70\n",
            "240/240 - 1s - loss: 3.6775e-06 - accuracy: 1.0000 - val_loss: 0.0065 - val_accuracy: 0.9800 - 752ms/epoch - 3ms/step\n",
            "Epoch 65/70\n",
            "240/240 - 1s - loss: 3.3310e-06 - accuracy: 1.0000 - val_loss: 0.0065 - val_accuracy: 0.9803 - 735ms/epoch - 3ms/step\n",
            "Epoch 66/70\n",
            "240/240 - 1s - loss: 3.0600e-06 - accuracy: 1.0000 - val_loss: 0.0067 - val_accuracy: 0.9797 - 721ms/epoch - 3ms/step\n",
            "Epoch 67/70\n",
            "240/240 - 1s - loss: 2.8633e-06 - accuracy: 1.0000 - val_loss: 0.0066 - val_accuracy: 0.9800 - 720ms/epoch - 3ms/step\n",
            "Epoch 68/70\n",
            "240/240 - 1s - loss: 2.5951e-06 - accuracy: 1.0000 - val_loss: 0.0067 - val_accuracy: 0.9803 - 744ms/epoch - 3ms/step\n",
            "Epoch 69/70\n",
            "240/240 - 1s - loss: 2.3289e-06 - accuracy: 1.0000 - val_loss: 0.0068 - val_accuracy: 0.9801 - 721ms/epoch - 3ms/step\n",
            "Epoch 70/70\n",
            "240/240 - 1s - loss: 2.1555e-06 - accuracy: 1.0000 - val_loss: 0.0068 - val_accuracy: 0.9803 - 729ms/epoch - 3ms/step\n"
          ]
        }
      ],
      "source": [
        "train_history = model.fit(x = X_Train_normalize, y = y_TrainOneHot,\n",
        "                            validation_split = 0.2, epochs = 70, batch_size = 200,\n",
        "                            verbose = 2)"
      ]
    },
    {
      "cell_type": "markdown",
      "metadata": {
        "id": "y2UhJPyc39PF"
      },
      "source": [
        "建立函式顯示訓練過程，會將每一個訓練週期的 accuracy 和 loss 以圖表顯示出來。"
      ]
    },
    {
      "cell_type": "code",
      "execution_count": 28,
      "metadata": {
        "id": "oQgpTAEfn8vb"
      },
      "outputs": [],
      "source": [
        "def show_train_history(train_history, train, validation):\n",
        "    plt.plot(train_history.history[train])\n",
        "    plt.plot(train_history.history[validation])\n",
        "    plt.title('Train History')\n",
        "    plt.ylabel(train)\n",
        "    plt.xlabel('Epoch')\n",
        "    plt.legend(['train', 'validation'], loc = 'upper left')\n",
        "    plt.show()"
      ]
    },
    {
      "cell_type": "code",
      "execution_count": 29,
      "metadata": {
        "id": "Gd1cWRrKn8vb",
        "colab": {
          "base_uri": "https://localhost:8080/",
          "height": 472
        },
        "outputId": "c2518e6e-f79c-4e17-cc7e-c3799615816f"
      },
      "outputs": [
        {
          "output_type": "display_data",
          "data": {
            "text/plain": [
              "<Figure size 640x480 with 1 Axes>"
            ],
            "image/png": "[encoded data removed]"
          },
          "metadata": {}
        }
      ],
      "source": [
        "show_train_history(train_history, 'accuracy', 'val_accuracy')"
      ]
    },
    {
      "cell_type": "code",
      "execution_count": 30,
      "metadata": {
        "id": "BW7YX87on8vb",
        "colab": {
          "base_uri": "https://localhost:8080/",
          "height": 472
        },
        "outputId": "ad7ba241-2914-4bb4-a6c4-148f083a538b"
      },
      "outputs": [
        {
          "output_type": "display_data",
          "data": {
            "text/plain": [
              "<Figure size 640x480 with 1 Axes>"
            ],
            "image/png": "[encoded data removed]"
          },
          "metadata": {}
        }
      ],
      "source": [
        "show_train_history(train_history, 'loss', 'val_loss')"
      ]
    },
    {
      "cell_type": "markdown",
      "metadata": {
        "id": "fhHrcEWo4iJD"
      },
      "source": [
        "# 以測試資料評估模型準確率\n",
        "---\n"
      ]
    },
    {
      "cell_type": "code",
      "execution_count": 31,
      "metadata": {
        "id": "FpMOSWR2n8vc",
        "colab": {
          "base_uri": "https://localhost:8080/"
        },
        "outputId": "3f8b678f-2b9b-4bcf-e543-0c3fbdf13279"
      },
      "outputs": [
        {
          "output_type": "stream",
          "name": "stdout",
          "text": [
            "313/313 [==============================] - 1s 3ms/step - loss: 0.0064 - accuracy: 0.9809\n",
            "\n",
            "accuracy =  0.98089998960495\n"
          ]
        }
      ],
      "source": [
        "scores = model.evaluate(X_Test_normalize, y_TestOneHot)\n",
        "print()\n",
        "print('accuracy = ', scores[1])"
      ]
    },
    {
      "cell_type": "markdown",
      "source": [
        "傳入手寫圖片"
      ],
      "metadata": {
        "id": "eYt-uD_Xi9S0"
      }
    },
    {
      "cell_type": "code",
      "source": [
        "import tensorflow as tf\n",
        "import cv2\n",
        "import numpy as np\n",
        "from google.colab.patches import cv2_imshow\n",
        "\n",
        "image_path = \"predict_2.jpg\"\n",
        "image = cv2.imread(image_path, cv2.IMREAD_GRAYSCALE)\n",
        "\n",
        "_,image = cv2.threshold(image, 160, 255, cv2.THRESH_BINARY)\n",
        "\n",
        "\n",
        "image = cv2.resize(image, (28, 28))\n",
        "\n",
        "\n",
        "image = np.expand_dims(image, axis=0)\n",
        "prediction = np.argmax(model.predict(image), axis = -1)\n",
        "image_rgb = cv2.cvtColor(image[0], cv2.COLOR_GRAY2BGR)\n",
        "\n",
        "plt.imshow(image[0], cmap=\"gray\")\n",
        "plt.title(f\"predict={int(prediction)}\")\n",
        "plt.show()"
      ],
      "metadata": {
        "colab": {
          "base_uri": "https://localhost:8080/",
          "height": 470
        },
        "id": "bTBkISo_vCsZ",
        "outputId": "1a2a1b44-ab24-4f21-bbc3-aad6fe9488b6"
      },
      "execution_count": 41,
      "outputs": [
        {
          "output_type": "stream",
          "name": "stdout",
          "text": [
            "1/1 [==============================] - 0s 18ms/step\n"
          ]
        },
        {
          "output_type": "display_data",
          "data": {
            "text/plain": [
              "<Figure size 640x480 with 1 Axes>"
            ],
            "image/png": "[encoded data removed]"
          },
          "metadata": {}
        }
      ]
    },
    {
      "cell_type": "markdown",
      "metadata": {
        "id": "80wdyNJY40PA"
      },
      "source": [
        "執行預測，將結果存到 prediction 中。"
      ]
    },
    {
      "cell_type": "code",
      "execution_count": 42,
      "metadata": {
        "id": "PjVUnCEnn8vc",
        "colab": {
          "base_uri": "https://localhost:8080/"
        },
        "outputId": "d4bec939-7c44-438c-95e7-6bbbb06e2058"
      },
      "outputs": [
        {
          "output_type": "stream",
          "name": "stdout",
          "text": [
            "313/313 [==============================] - 1s 2ms/step\n"
          ]
        }
      ],
      "source": [
        "prediction = np.argmax(model.predict(X_Test), axis = -1)"
      ]
    },
    {
      "cell_type": "code",
      "execution_count": 43,
      "metadata": {
        "id": "h9SWS2kqn8vc",
        "colab": {
          "base_uri": "https://localhost:8080/"
        },
        "outputId": "de0bcf6b-558f-4f5e-c57e-adb7707da0d3"
      },
      "outputs": [
        {
          "output_type": "execute_result",
          "data": {
            "text/plain": [
              "array([7, 2, 1, ..., 4, 5, 6])"
            ]
          },
          "metadata": {},
          "execution_count": 43
        }
      ],
      "source": [
        "prediction"
      ]
    },
    {
      "cell_type": "markdown",
      "metadata": {
        "id": "lpO7D8kU5Cc_"
      },
      "source": [
        "顯示 10 筆預測結果。"
      ]
    },
    {
      "cell_type": "code",
      "execution_count": 44,
      "metadata": {
        "id": "3P_gdFyBn8vc",
        "scrolled": false,
        "colab": {
          "base_uri": "https://localhost:8080/",
          "height": 439
        },
        "outputId": "c5114837-3ea6-4b44-9dda-8aa512993c3c"
      },
      "outputs": [
        {
          "output_type": "display_data",
          "data": {
            "text/plain": [
              "<Figure size 1200x1400 with 10 Axes>"
            ],
            "image/png": "[encoded data removed]"
          },
          "metadata": {}
        }
      ],
      "source": [
        "plot_images_labels_prediction(X_test_image, y_test_label, prediction, idx = 340)"
      ]
    },
    {
      "cell_type": "code",
      "source": [
        "y_test_label = y_test_label.reshape(10000)"
      ],
      "metadata": {
        "id": "bwAxlDHhxG-D"
      },
      "execution_count": 45,
      "outputs": []
    },
    {
      "cell_type": "markdown",
      "metadata": {
        "id": "wPnqNhGnvgqS"
      },
      "source": [
        "混淆矩陣"
      ]
    },
    {
      "cell_type": "code",
      "execution_count": 46,
      "metadata": {
        "id": "MnGfKgExvgqS",
        "colab": {
          "base_uri": "https://localhost:8080/",
          "height": 394
        },
        "outputId": "86e1f041-d92d-4dc2-f599-fb063c8bc28b"
      },
      "outputs": [
        {
          "output_type": "execute_result",
          "data": {
            "text/plain": [
              "predict    0     1     2    3    4    5    6     7    8    9\n",
              "label                                                       \n",
              "0        972     0     0    1    1    2    1     1    1    1\n",
              "1          0  1126     3    1    0    0    1     2    2    0\n",
              "2          0     0  1018    3    1    0    2     6    1    1\n",
              "3          0     0     0  994    0    3    0     4    3    6\n",
              "4          3     1     1    0  955    1    6     2    2   11\n",
              "5          2     0     0   14    2  861    6     2    2    3\n",
              "6          2     2     0    1    3    2  948     0    0    0\n",
              "7          1     6     6    2    1    0    0  1005    1    6\n",
              "8          5     0     6    9    4    1    3     3  941    2\n",
              "9          4     4     0    5    5    2    0     4    1  984"
            ],
            "text/html": [
              "\n",
              "  <div id=\"df-04d689ac-812f-4867-a7ba-f53f664f21cc\" class=\"colab-df-container\">\n",
              "    <div>\n",
              "<style scoped>\n",
              "    .dataframe tbody tr th:only-of-type {\n",
              "        vertical-align: middle;\n",
              "    }\n",
              "\n",
              "    .dataframe tbody tr th {\n",
              "        vertical-align: top;\n",
              "    }\n",
              "\n",
              "    .dataframe thead th {\n",
              "        text-align: right;\n",
              "    }\n",
              "</style>\n",
              "<table border=\"1\" class=\"dataframe\">\n",
              "  <thead>\n",
              "    <tr style=\"text-align: right;\">\n",
              "      <th>predict</th>\n",
              "      <th>0</th>\n",
              "      <th>1</th>\n",
              "      <th>2</th>\n",
              "      <th>3</th>\n",
              "      <th>4</th>\n",
              "      <th>5</th>\n",
              "      <th>6</th>\n",
              "      <th>7</th>\n",
              "      <th>8</th>\n",
              "      <th>9</th>\n",
              "    </tr>\n",
              "    <tr>\n",
              "      <th>label</th>\n",
              "      <th></th>\n",
              "      <th></th>\n",
              "      <th></th>\n",
              "      <th></th>\n",
              "      <th></th>\n",
              "      <th></th>\n",
              "      <th></th>\n",
              "      <th></th>\n",
              "      <th></th>\n",
              "      <th></th>\n",
              "    </tr>\n",
              "  </thead>\n",
              "  <tbody>\n",
              "    <tr>\n",
              "      <th>0</th>\n",
              "      <td>972</td>\n",
              "      <td>0</td>\n",
              "      <td>0</td>\n",
              "      <td>1</td>\n",
              "      <td>1</td>\n",
              "      <td>2</td>\n",
              "      <td>1</td>\n",
              "      <td>1</td>\n",
              "      <td>1</td>\n",
              "      <td>1</td>\n",
              "    </tr>\n",
              "    <tr>\n",
              "      <th>1</th>\n",
              "      <td>0</td>\n",
              "      <td>1126</td>\n",
              "      <td>3</td>\n",
              "      <td>1</td>\n",
              "      <td>0</td>\n",
              "      <td>0</td>\n",
              "      <td>1</td>\n",
              "      <td>2</td>\n",
              "      <td>2</td>\n",
              "      <td>0</td>\n",
              "    </tr>\n",
              "    <tr>\n",
              "      <th>2</th>\n",
              "      <td>0</td>\n",
              "      <td>0</td>\n",
              "      <td>1018</td>\n",
              "      <td>3</td>\n",
              "      <td>1</td>\n",
              "      <td>0</td>\n",
              "      <td>2</td>\n",
              "      <td>6</td>\n",
              "      <td>1</td>\n",
              "      <td>1</td>\n",
              "    </tr>\n",
              "    <tr>\n",
              "      <th>3</th>\n",
              "      <td>0</td>\n",
              "      <td>0</td>\n",
              "      <td>0</td>\n",
              "      <td>994</td>\n",
              "      <td>0</td>\n",
              "      <td>3</td>\n",
              "      <td>0</td>\n",
              "      <td>4</td>\n",
              "      <td>3</td>\n",
              "      <td>6</td>\n",
              "    </tr>\n",
              "    <tr>\n",
              "      <th>4</th>\n",
              "      <td>3</td>\n",
              "      <td>1</td>\n",
              "      <td>1</td>\n",
              "      <td>0</td>\n",
              "      <td>955</td>\n",
              "      <td>1</td>\n",
              "      <td>6</td>\n",
              "      <td>2</td>\n",
              "      <td>2</td>\n",
              "      <td>11</td>\n",
              "    </tr>\n",
              "    <tr>\n",
              "      <th>5</th>\n",
              "      <td>2</td>\n",
              "      <td>0</td>\n",
              "      <td>0</td>\n",
              "      <td>14</td>\n",
              "      <td>2</td>\n",
              "      <td>861</td>\n",
              "      <td>6</td>\n",
              "      <td>2</td>\n",
              "      <td>2</td>\n",
              "      <td>3</td>\n",
              "    </tr>\n",
              "    <tr>\n",
              "      <th>6</th>\n",
              "      <td>2</td>\n",
              "      <td>2</td>\n",
              "      <td>0</td>\n",
              "      <td>1</td>\n",
              "      <td>3</td>\n",
              "      <td>2</td>\n",
              "      <td>948</td>\n",
              "      <td>0</td>\n",
              "      <td>0</td>\n",
              "      <td>0</td>\n",
              "    </tr>\n",
              "    <tr>\n",
              "      <th>7</th>\n",
              "      <td>1</td>\n",
              "      <td>6</td>\n",
              "      <td>6</td>\n",
              "      <td>2</td>\n",
              "      <td>1</td>\n",
              "      <td>0</td>\n",
              "      <td>0</td>\n",
              "      <td>1005</td>\n",
              "      <td>1</td>\n",
              "      <td>6</td>\n",
              "    </tr>\n",
              "    <tr>\n",
              "      <th>8</th>\n",
              "      <td>5</td>\n",
              "      <td>0</td>\n",
              "      <td>6</td>\n",
              "      <td>9</td>\n",
              "      <td>4</td>\n",
              "      <td>1</td>\n",
              "      <td>3</td>\n",
              "      <td>3</td>\n",
              "      <td>941</td>\n",
              "      <td>2</td>\n",
              "    </tr>\n",
              "    <tr>\n",
              "      <th>9</th>\n",
              "      <td>4</td>\n",
              "      <td>4</td>\n",
              "      <td>0</td>\n",
              "      <td>5</td>\n",
              "      <td>5</td>\n",
              "      <td>2</td>\n",
              "      <td>0</td>\n",
              "      <td>4</td>\n",
              "      <td>1</td>\n",
              "      <td>984</td>\n",
              "    </tr>\n",
              "  </tbody>\n",
              "</table>\n",
              "</div>\n",
              "    <div class=\"colab-df-buttons\">\n",
              "\n",
              "  <div class=\"colab-df-container\">\n",
              "    <button class=\"colab-df-convert\" onclick=\"convertToInteractive('df-04d689ac-812f-4867-a7ba-f53f664f21cc')\"\n",
              "            title=\"Convert this dataframe to an interactive table.\"\n",
              "            style=\"display:none;\">\n",
              "\n",
              "  <svg xmlns=\"http://www.w3.org/2000/svg\" height=\"24px\" viewBox=\"0 -960 960 960\">\n",
              "    <path d=\"M120-120v-720h720v720H120Zm60-500h600v-160H180v160Zm220 220h160v-160H400v160Zm0 220h160v-160H400v160ZM180-400h160v-160H180v160Zm440 0h160v-160H620v160ZM180-180h160v-160H180v160Zm440 0h160v-160H620v160Z\"/>\n",
              "  </svg>\n",
              "    </button>\n",
              "\n",
              "  <style>\n",
              "    .colab-df-container {\n",
              "      display:flex;\n",
              "      gap: 12px;\n",
              "    }\n",
              "\n",
              "    .colab-df-convert {\n",
              "      background-color: #E8F0FE;\n",
              "      border: none;\n",
              "      border-radius: 50%;\n",
              "      cursor: pointer;\n",
              "      display: none;\n",
              "      fill: #1967D2;\n",
              "      height: 32px;\n",
              "      padding: 0 0 0 0;\n",
              "      width: 32px;\n",
              "    }\n",
              "\n",
              "    .colab-df-convert:hover {\n",
              "      background-color: #E2EBFA;\n",
              "      box-shadow: 0px 1px 2px rgba(60, 64, 67, 0.3), 0px 1px 3px 1px rgba(60, 64, 67, 0.15);\n",
              "      fill: #174EA6;\n",
              "    }\n",
              "\n",
              "    .colab-df-buttons div {\n",
              "      margin-bottom: 4px;\n",
              "    }\n",
              "\n",
              "    [theme=dark] .colab-df-convert {\n",
              "      background-color: #3B4455;\n",
              "      fill: #D2E3FC;\n",
              "    }\n",
              "\n",
              "    [theme=dark] .colab-df-convert:hover {\n",
              "      background-color: #434B5C;\n",
              "      box-shadow: 0px 1px 3px 1px rgba(0, 0, 0, 0.15);\n",
              "      filter: drop-shadow(0px 1px 2px rgba(0, 0, 0, 0.3));\n",
              "      fill: #FFFFFF;\n",
              "    }\n",
              "  </style>\n",
              "\n",
              "    <script>\n",
              "      const buttonEl =\n",
              "        document.querySelector('#df-04d689ac-812f-4867-a7ba-f53f664f21cc button.colab-df-convert');\n",
              "      buttonEl.style.display =\n",
              "        google.colab.kernel.accessAllowed ? 'block' : 'none';\n",
              "\n",
              "      async function convertToInteractive(key) {\n",
              "        const element = document.querySelector('#df-04d689ac-812f-4867-a7ba-f53f664f21cc');\n",
              "        const dataTable =\n",
              "          await google.colab.kernel.invokeFunction('convertToInteractive',\n",
              "                                                    [key], {});\n",
              "        if (!dataTable) return;\n",
              "\n",
              "        const docLinkHtml = 'Like what you see? Visit the ' +\n",
              "          '<a target=\"_blank\" href=https://colab.research.google.com/notebooks/data_table.ipynb>data table notebook</a>'\n",
              "          + ' to learn more about interactive tables.';\n",
              "        element.innerHTML = '';\n",
              "        dataTable['output_type'] = 'display_data';\n",
              "        await google.colab.output.renderOutput(dataTable, element);\n",
              "        const docLink = document.createElement('div');\n",
              "        docLink.innerHTML = docLinkHtml;\n",
              "        element.appendChild(docLink);\n",
              "      }\n",
              "    </script>\n",
              "  </div>\n",
              "\n",
              "\n",
              "<div id=\"df-93e64108-8c54-4271-98b1-f27490c54105\">\n",
              "  <button class=\"colab-df-quickchart\" onclick=\"quickchart('df-93e64108-8c54-4271-98b1-f27490c54105')\"\n",
              "            title=\"Suggest charts\"\n",
              "            style=\"display:none;\">\n",
              "\n",
              "<svg xmlns=\"http://www.w3.org/2000/svg\" height=\"24px\"viewBox=\"0 0 24 24\"\n",
              "     width=\"24px\">\n",
              "    <g>\n",
              "        <path d=\"M19 3H5c-1.1 0-2 .9-2 2v14c0 1.1.9 2 2 2h14c1.1 0 2-.9 2-2V5c0-1.1-.9-2-2-2zM9 17H7v-7h2v7zm4 0h-2V7h2v10zm4 0h-2v-4h2v4z\"/>\n",
              "    </g>\n",
              "</svg>\n",
              "  </button>\n",
              "\n",
              "<style>\n",
              "  .colab-df-quickchart {\n",
              "      --bg-color: #E8F0FE;\n",
              "      --fill-color: #1967D2;\n",
              "      --hover-bg-color: #E2EBFA;\n",
              "      --hover-fill-color: #174EA6;\n",
              "      --disabled-fill-color: #AAA;\n",
              "      --disabled-bg-color: #DDD;\n",
              "  }\n",
              "\n",
              "  [theme=dark] .colab-df-quickchart {\n",
              "      --bg-color: #3B4455;\n",
              "      --fill-color: #D2E3FC;\n",
              "      --hover-bg-color: #434B5C;\n",
              "      --hover-fill-color: #FFFFFF;\n",
              "      --disabled-bg-color: #3B4455;\n",
              "      --disabled-fill-color: #666;\n",
              "  }\n",
              "\n",
              "  .colab-df-quickchart {\n",
              "    background-color: var(--bg-color);\n",
              "    border: none;\n",
              "    border-radius: 50%;\n",
              "    cursor: pointer;\n",
              "    display: none;\n",
              "    fill: var(--fill-color);\n",
              "    height: 32px;\n",
              "    padding: 0;\n",
              "    width: 32px;\n",
              "  }\n",
              "\n",
              "  .colab-df-quickchart:hover {\n",
              "    background-color: var(--hover-bg-color);\n",
              "    box-shadow: 0 1px 2px rgba(60, 64, 67, 0.3), 0 1px 3px 1px rgba(60, 64, 67, 0.15);\n",
              "    fill: var(--button-hover-fill-color);\n",
              "  }\n",
              "\n",
              "  .colab-df-quickchart-complete:disabled,\n",
              "  .colab-df-quickchart-complete:disabled:hover {\n",
              "    background-color: var(--disabled-bg-color);\n",
              "    fill: var(--disabled-fill-color);\n",
              "    box-shadow: none;\n",
              "  }\n",
              "\n",
              "  .colab-df-spinner {\n",
              "    border: 2px solid var(--fill-color);\n",
              "    border-color: transparent;\n",
              "    border-bottom-color: var(--fill-color);\n",
              "    animation:\n",
              "      spin 1s steps(1) infinite;\n",
              "  }\n",
              "\n",
              "  @keyframes spin {\n",
              "    0% {\n",
              "      border-color: transparent;\n",
              "      border-bottom-color: var(--fill-color);\n",
              "      border-left-color: var(--fill-color);\n",
              "    }\n",
              "    20% {\n",
              "      border-color: transparent;\n",
              "      border-left-color: var(--fill-color);\n",
              "      border-top-color: var(--fill-color);\n",
              "    }\n",
              "    30% {\n",
              "      border-color: transparent;\n",
              "      border-left-color: var(--fill-color);\n",
              "      border-top-color: var(--fill-color);\n",
              "      border-right-color: var(--fill-color);\n",
              "    }\n",
              "    40% {\n",
              "      border-color: transparent;\n",
              "      border-right-color: var(--fill-color);\n",
              "      border-top-color: var(--fill-color);\n",
              "    }\n",
              "    60% {\n",
              "      border-color: transparent;\n",
              "      border-right-color: var(--fill-color);\n",
              "    }\n",
              "    80% {\n",
              "      border-color: transparent;\n",
              "      border-right-color: var(--fill-color);\n",
              "      border-bottom-color: var(--fill-color);\n",
              "    }\n",
              "    90% {\n",
              "      border-color: transparent;\n",
              "      border-bottom-color: var(--fill-color);\n",
              "    }\n",
              "  }\n",
              "</style>\n",
              "\n",
              "  <script>\n",
              "    async function quickchart(key) {\n",
              "      const quickchartButtonEl =\n",
              "        document.querySelector('#' + key + ' button');\n",
              "      quickchartButtonEl.disabled = true;  // To prevent multiple clicks.\n",
              "      quickchartButtonEl.classList.add('colab-df-spinner');\n",
              "      try {\n",
              "        const charts = await google.colab.kernel.invokeFunction(\n",
              "            'suggestCharts', [key], {});\n",
              "      } catch (error) {\n",
              "        console.error('Error during call to suggestCharts:', error);\n",
              "      }\n",
              "      quickchartButtonEl.classList.remove('colab-df-spinner');\n",
              "      quickchartButtonEl.classList.add('colab-df-quickchart-complete');\n",
              "    }\n",
              "    (() => {\n",
              "      let quickchartButtonEl =\n",
              "        document.querySelector('#df-93e64108-8c54-4271-98b1-f27490c54105 button');\n",
              "      quickchartButtonEl.style.display =\n",
              "        google.colab.kernel.accessAllowed ? 'block' : 'none';\n",
              "    })();\n",
              "  </script>\n",
              "</div>\n",
              "\n",
              "    </div>\n",
              "  </div>\n"
            ]
          },
          "metadata": {},
          "execution_count": 46
        }
      ],
      "source": [
        "#使用 pandas 中的 crosstab 能夠很方便的建立混淆矩陣。\n",
        "pd.crosstab(y_test_label, prediction, rownames = ['label'], colnames = ['predict'])"
      ]
    }
  ],
  "metadata": {
    "accelerator": "GPU",
    "colab": {
      "provenance": []
    },
    "gpuClass": "standard",
    "kernelspec": {
      "display_name": "Python 3.7.9 ('py37_tensorflow')",
      "language": "python",
      "name": "python3"
    },
    "language_info": {
      "codemirror_mode": {
        "name": "ipython",
        "version": 3
      },
      "file_extension": ".py",
      "mimetype": "text/x-python",
      "name": "python",
      "nbconvert_exporter": "python",
      "pygments_lexer": "ipython3",
      "version": "3.7.9"
    },
    "vscode": {
      "interpreter": {
        "hash": "d194fa7cde35d0544ffd86d7eb28ea43b62c695d72f93f04bc49d19e1b400069"
      }
    }
  },
  "nbformat": 4,
  "nbformat_minor": 0
}